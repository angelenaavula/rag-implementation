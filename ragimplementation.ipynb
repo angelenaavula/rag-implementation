{
  "cells": [
    {
      "cell_type": "code",
      "execution_count": null,
      "metadata": {
        "colab": {
          "base_uri": "https://localhost:8080/"
        },
        "id": "_06nUzrdkza_",
        "outputId": "c7fdd55e-e108-4e68-bc11-5262757d70c4"
      },
      "outputs": [
        {
          "output_type": "stream",
          "name": "stdout",
          "text": [
            "Collecting datasets\n",
            "  Downloading datasets-2.19.0-py3-none-any.whl (542 kB)\n",
            "\u001b[2K     \u001b[90m━━━━━━━━━━━━━━━━━━━━━━━━━━━━━━━━━━━━━━━━\u001b[0m \u001b[32m542.0/542.0 kB\u001b[0m \u001b[31m5.0 MB/s\u001b[0m eta \u001b[36m0:00:00\u001b[0m\n",
            "\u001b[?25hRequirement already satisfied: filelock in /usr/local/lib/python3.10/dist-packages (from datasets) (3.13.4)\n",
            "Requirement already satisfied: numpy>=1.17 in /usr/local/lib/python3.10/dist-packages (from datasets) (1.25.2)\n",
            "Requirement already satisfied: pyarrow>=12.0.0 in /usr/local/lib/python3.10/dist-packages (from datasets) (14.0.2)\n",
            "Requirement already satisfied: pyarrow-hotfix in /usr/local/lib/python3.10/dist-packages (from datasets) (0.6)\n",
            "Collecting dill<0.3.9,>=0.3.0 (from datasets)\n",
            "  Downloading dill-0.3.8-py3-none-any.whl (116 kB)\n",
            "\u001b[2K     \u001b[90m━━━━━━━━━━━━━━━━━━━━━━━━━━━━━━━━━━━━━━━━\u001b[0m \u001b[32m116.3/116.3 kB\u001b[0m \u001b[31m6.1 MB/s\u001b[0m eta \u001b[36m0:00:00\u001b[0m\n",
            "\u001b[?25hRequirement already satisfied: pandas in /usr/local/lib/python3.10/dist-packages (from datasets) (2.0.3)\n",
            "Requirement already satisfied: requests>=2.19.0 in /usr/local/lib/python3.10/dist-packages (from datasets) (2.31.0)\n",
            "Requirement already satisfied: tqdm>=4.62.1 in /usr/local/lib/python3.10/dist-packages (from datasets) (4.66.2)\n",
            "Collecting xxhash (from datasets)\n",
            "  Downloading xxhash-3.4.1-cp310-cp310-manylinux_2_17_x86_64.manylinux2014_x86_64.whl (194 kB)\n",
            "\u001b[2K     \u001b[90m━━━━━━━━━━━━━━━━━━━━━━━━━━━━━━━━━━━━━━━━\u001b[0m \u001b[32m194.1/194.1 kB\u001b[0m \u001b[31m6.3 MB/s\u001b[0m eta \u001b[36m0:00:00\u001b[0m\n",
            "\u001b[?25hCollecting multiprocess (from datasets)\n",
            "  Downloading multiprocess-0.70.16-py310-none-any.whl (134 kB)\n",
            "\u001b[2K     \u001b[90m━━━━━━━━━━━━━━━━━━━━━━━━━━━━━━━━━━━━━━━━\u001b[0m \u001b[32m134.8/134.8 kB\u001b[0m \u001b[31m6.7 MB/s\u001b[0m eta \u001b[36m0:00:00\u001b[0m\n",
            "\u001b[?25hRequirement already satisfied: fsspec[http]<=2024.3.1,>=2023.1.0 in /usr/local/lib/python3.10/dist-packages (from datasets) (2023.6.0)\n",
            "Requirement already satisfied: aiohttp in /usr/local/lib/python3.10/dist-packages (from datasets) (3.9.5)\n",
            "Collecting huggingface-hub>=0.21.2 (from datasets)\n",
            "  Downloading huggingface_hub-0.22.2-py3-none-any.whl (388 kB)\n",
            "\u001b[2K     \u001b[90m━━━━━━━━━━━━━━━━━━━━━━━━━━━━━━━━━━━━━━━━\u001b[0m \u001b[32m388.9/388.9 kB\u001b[0m \u001b[31m10.5 MB/s\u001b[0m eta \u001b[36m0:00:00\u001b[0m\n",
            "\u001b[?25hRequirement already satisfied: packaging in /usr/local/lib/python3.10/dist-packages (from datasets) (24.0)\n",
            "Requirement already satisfied: pyyaml>=5.1 in /usr/local/lib/python3.10/dist-packages (from datasets) (6.0.1)\n",
            "Requirement already satisfied: aiosignal>=1.1.2 in /usr/local/lib/python3.10/dist-packages (from aiohttp->datasets) (1.3.1)\n",
            "Requirement already satisfied: attrs>=17.3.0 in /usr/local/lib/python3.10/dist-packages (from aiohttp->datasets) (23.2.0)\n",
            "Requirement already satisfied: frozenlist>=1.1.1 in /usr/local/lib/python3.10/dist-packages (from aiohttp->datasets) (1.4.1)\n",
            "Requirement already satisfied: multidict<7.0,>=4.5 in /usr/local/lib/python3.10/dist-packages (from aiohttp->datasets) (6.0.5)\n",
            "Requirement already satisfied: yarl<2.0,>=1.0 in /usr/local/lib/python3.10/dist-packages (from aiohttp->datasets) (1.9.4)\n",
            "Requirement already satisfied: async-timeout<5.0,>=4.0 in /usr/local/lib/python3.10/dist-packages (from aiohttp->datasets) (4.0.3)\n",
            "Requirement already satisfied: typing-extensions>=3.7.4.3 in /usr/local/lib/python3.10/dist-packages (from huggingface-hub>=0.21.2->datasets) (4.11.0)\n",
            "Requirement already satisfied: charset-normalizer<4,>=2 in /usr/local/lib/python3.10/dist-packages (from requests>=2.19.0->datasets) (3.3.2)\n",
            "Requirement already satisfied: idna<4,>=2.5 in /usr/local/lib/python3.10/dist-packages (from requests>=2.19.0->datasets) (3.7)\n",
            "Requirement already satisfied: urllib3<3,>=1.21.1 in /usr/local/lib/python3.10/dist-packages (from requests>=2.19.0->datasets) (2.0.7)\n",
            "Requirement already satisfied: certifi>=2017.4.17 in /usr/local/lib/python3.10/dist-packages (from requests>=2.19.0->datasets) (2024.2.2)\n",
            "Requirement already satisfied: python-dateutil>=2.8.2 in /usr/local/lib/python3.10/dist-packages (from pandas->datasets) (2.8.2)\n",
            "Requirement already satisfied: pytz>=2020.1 in /usr/local/lib/python3.10/dist-packages (from pandas->datasets) (2023.4)\n",
            "Requirement already satisfied: tzdata>=2022.1 in /usr/local/lib/python3.10/dist-packages (from pandas->datasets) (2024.1)\n",
            "Requirement already satisfied: six>=1.5 in /usr/local/lib/python3.10/dist-packages (from python-dateutil>=2.8.2->pandas->datasets) (1.16.0)\n",
            "Installing collected packages: xxhash, dill, multiprocess, huggingface-hub, datasets\n",
            "  Attempting uninstall: huggingface-hub\n",
            "    Found existing installation: huggingface-hub 0.20.3\n",
            "    Uninstalling huggingface-hub-0.20.3:\n",
            "      Successfully uninstalled huggingface-hub-0.20.3\n",
            "Successfully installed datasets-2.19.0 dill-0.3.8 huggingface-hub-0.22.2 multiprocess-0.70.16 xxhash-3.4.1\n"
          ]
        }
      ],
      "source": [
        "!pip install datasets"
      ]
    },
    {
      "cell_type": "code",
      "execution_count": null,
      "metadata": {
        "id": "U_wCPGumkmcf"
      },
      "outputs": [],
      "source": [
        "from tqdm.notebook import tqdm\n",
        "import pandas as pd\n",
        "from typing import Optional, List, Tuple\n",
        "from datasets import Dataset\n",
        "import matplotlib.pyplot as plt\n",
        "pd.set_option(\n",
        "    \"display.max_colwidth\", None\n",
        ")"
      ]
    },
    {
      "cell_type": "code",
      "execution_count": null,
      "metadata": {
        "colab": {
          "base_uri": "https://localhost:8080/",
          "height": 49,
          "referenced_widgets": [
            "39bf2afddd494b37ac05ea21680c6788",
            "e9e0efac3ff5484abe097977e8355dc8",
            "ec9e858601014de6a612652c63e5e565",
            "87c334faec91450fa1e0bd264cb813a3",
            "cde8537f508447af81579b040c6880ea",
            "2081f8973e144969b797045f11a85d3d",
            "e897c5c0a5d043178c49929e76d26f2f",
            "10441864b3af4cbf81d44a3abfef08c2",
            "719af0745e1e42c1886423a79666f719",
            "bb7c21205afd4d9f88f1148437ae3baa",
            "35e8bb1ac6284e68970b4e13808de38a"
          ]
        },
        "id": "w9Doag4Ak-fz",
        "outputId": "b870dc1e-19d6-43f7-aafa-1d88bd2cd21f"
      },
      "outputs": [
        {
          "data": {
            "application/vnd.jupyter.widget-view+json": {
              "model_id": "39bf2afddd494b37ac05ea21680c6788",
              "version_major": 2,
              "version_minor": 0
            },
            "text/plain": [
              "Generating train split: 0 examples [00:00, ? examples/s]"
            ]
          },
          "metadata": {},
          "output_type": "display_data"
        }
      ],
      "source": [
        "import  datasets\n",
        "from datasets import load_dataset\n",
        "ds = datasets.load_dataset(\"text\", data_files=\"dataset.rtf\" , split=\"train\")"
      ]
    },
    {
      "cell_type": "code",
      "execution_count": null,
      "metadata": {
        "colab": {
          "base_uri": "https://localhost:8080/"
        },
        "id": "_T_OETABlDJ8",
        "outputId": "f81bc729-328d-4ec8-ca6c-49eb41d1ee21"
      },
      "outputs": [
        {
          "data": {
            "text/plain": [
              "Dataset({\n",
              "    features: ['text'],\n",
              "    num_rows: 210\n",
              "})"
            ]
          },
          "execution_count": 17,
          "metadata": {},
          "output_type": "execute_result"
        }
      ],
      "source": [
        "ds"
      ]
    },
    {
      "cell_type": "code",
      "execution_count": null,
      "metadata": {
        "colab": {
          "base_uri": "https://localhost:8080/"
        },
        "id": "9MVGKAuTlNkl",
        "outputId": "86a24d3a-ab6f-4a94-f331-cb4aec25f6e5"
      },
      "outputs": [
        {
          "name": "stdout",
          "output_type": "stream",
          "text": [
            "Collecting langchain\n",
            "  Downloading langchain-0.1.16-py3-none-any.whl (817 kB)\n",
            "\u001b[?25l     \u001b[90m━━━━━━━━━━━━━━━━━━━━━━━━━━━━━━━━━━━━━━━━\u001b[0m \u001b[32m0.0/817.7 kB\u001b[0m \u001b[31m?\u001b[0m eta \u001b[36m-:--:--\u001b[0m\r\u001b[2K     \u001b[91m━━━━━━━━━\u001b[0m\u001b[91m╸\u001b[0m\u001b[90m━━━━━━━━━━━━━━━━━━━━━━━━━━━━━━\u001b[0m \u001b[32m194.6/817.7 kB\u001b[0m \u001b[31m5.6 MB/s\u001b[0m eta \u001b[36m0:00:01\u001b[0m\r\u001b[2K     \u001b[90m━━━━━━━━━━━━━━━━━━━━━━━━━━━━━━━━━━━━━━━━\u001b[0m \u001b[32m817.7/817.7 kB\u001b[0m \u001b[31m16.7 MB/s\u001b[0m eta \u001b[36m0:00:00\u001b[0m\n",
            "\u001b[?25hRequirement already satisfied: PyYAML>=5.3 in /usr/local/lib/python3.10/dist-packages (from langchain) (6.0.1)\n",
            "Requirement already satisfied: SQLAlchemy<3,>=1.4 in /usr/local/lib/python3.10/dist-packages (from langchain) (2.0.29)\n",
            "Requirement already satisfied: aiohttp<4.0.0,>=3.8.3 in /usr/local/lib/python3.10/dist-packages (from langchain) (3.9.5)\n",
            "Requirement already satisfied: async-timeout<5.0.0,>=4.0.0 in /usr/local/lib/python3.10/dist-packages (from langchain) (4.0.3)\n",
            "Collecting dataclasses-json<0.7,>=0.5.7 (from langchain)\n",
            "  Downloading dataclasses_json-0.6.4-py3-none-any.whl (28 kB)\n",
            "Collecting jsonpatch<2.0,>=1.33 (from langchain)\n",
            "  Downloading jsonpatch-1.33-py2.py3-none-any.whl (12 kB)\n",
            "Collecting langchain-community<0.1,>=0.0.32 (from langchain)\n",
            "  Downloading langchain_community-0.0.34-py3-none-any.whl (1.9 MB)\n",
            "\u001b[2K     \u001b[90m━━━━━━━━━━━━━━━━━━━━━━━━━━━━━━━━━━━━━━━━\u001b[0m \u001b[32m1.9/1.9 MB\u001b[0m \u001b[31m76.8 MB/s\u001b[0m eta \u001b[36m0:00:00\u001b[0m\n",
            "\u001b[?25hCollecting langchain-core<0.2.0,>=0.1.42 (from langchain)\n",
            "  Downloading langchain_core-0.1.46-py3-none-any.whl (299 kB)\n",
            "\u001b[2K     \u001b[90m━━━━━━━━━━━━━━━━━━━━━━━━━━━━━━━━━━━━━━━━\u001b[0m \u001b[32m299.3/299.3 kB\u001b[0m \u001b[31m40.1 MB/s\u001b[0m eta \u001b[36m0:00:00\u001b[0m\n",
            "\u001b[?25hCollecting langchain-text-splitters<0.1,>=0.0.1 (from langchain)\n",
            "  Downloading langchain_text_splitters-0.0.1-py3-none-any.whl (21 kB)\n",
            "Collecting langsmith<0.2.0,>=0.1.17 (from langchain)\n",
            "  Downloading langsmith-0.1.51-py3-none-any.whl (115 kB)\n",
            "\u001b[2K     \u001b[90m━━━━━━━━━━━━━━━━━━━━━━━━━━━━━━━━━━━━━━━━\u001b[0m \u001b[32m116.0/116.0 kB\u001b[0m \u001b[31m19.2 MB/s\u001b[0m eta \u001b[36m0:00:00\u001b[0m\n",
            "\u001b[?25hRequirement already satisfied: numpy<2,>=1 in /usr/local/lib/python3.10/dist-packages (from langchain) (1.25.2)\n",
            "Requirement already satisfied: pydantic<3,>=1 in /usr/local/lib/python3.10/dist-packages (from langchain) (2.7.0)\n",
            "Requirement already satisfied: requests<3,>=2 in /usr/local/lib/python3.10/dist-packages (from langchain) (2.31.0)\n",
            "Requirement already satisfied: tenacity<9.0.0,>=8.1.0 in /usr/local/lib/python3.10/dist-packages (from langchain) (8.2.3)\n",
            "Requirement already satisfied: aiosignal>=1.1.2 in /usr/local/lib/python3.10/dist-packages (from aiohttp<4.0.0,>=3.8.3->langchain) (1.3.1)\n",
            "Requirement already satisfied: attrs>=17.3.0 in /usr/local/lib/python3.10/dist-packages (from aiohttp<4.0.0,>=3.8.3->langchain) (23.2.0)\n",
            "Requirement already satisfied: frozenlist>=1.1.1 in /usr/local/lib/python3.10/dist-packages (from aiohttp<4.0.0,>=3.8.3->langchain) (1.4.1)\n",
            "Requirement already satisfied: multidict<7.0,>=4.5 in /usr/local/lib/python3.10/dist-packages (from aiohttp<4.0.0,>=3.8.3->langchain) (6.0.5)\n",
            "Requirement already satisfied: yarl<2.0,>=1.0 in /usr/local/lib/python3.10/dist-packages (from aiohttp<4.0.0,>=3.8.3->langchain) (1.9.4)\n",
            "Collecting marshmallow<4.0.0,>=3.18.0 (from dataclasses-json<0.7,>=0.5.7->langchain)\n",
            "  Downloading marshmallow-3.21.1-py3-none-any.whl (49 kB)\n",
            "\u001b[2K     \u001b[90m━━━━━━━━━━━━━━━━━━━━━━━━━━━━━━━━━━━━━━━━\u001b[0m \u001b[32m49.4/49.4 kB\u001b[0m \u001b[31m7.4 MB/s\u001b[0m eta \u001b[36m0:00:00\u001b[0m\n",
            "\u001b[?25hCollecting typing-inspect<1,>=0.4.0 (from dataclasses-json<0.7,>=0.5.7->langchain)\n",
            "  Downloading typing_inspect-0.9.0-py3-none-any.whl (8.8 kB)\n",
            "Collecting jsonpointer>=1.9 (from jsonpatch<2.0,>=1.33->langchain)\n",
            "  Downloading jsonpointer-2.4-py2.py3-none-any.whl (7.8 kB)\n",
            "Collecting packaging<24.0,>=23.2 (from langchain-core<0.2.0,>=0.1.42->langchain)\n",
            "  Downloading packaging-23.2-py3-none-any.whl (53 kB)\n",
            "\u001b[2K     \u001b[90m━━━━━━━━━━━━━━━━━━━━━━━━━━━━━━━━━━━━━━━━\u001b[0m \u001b[32m53.0/53.0 kB\u001b[0m \u001b[31m8.8 MB/s\u001b[0m eta \u001b[36m0:00:00\u001b[0m\n",
            "\u001b[?25hCollecting orjson<4.0.0,>=3.9.14 (from langsmith<0.2.0,>=0.1.17->langchain)\n",
            "  Downloading orjson-3.10.1-cp310-cp310-manylinux_2_17_x86_64.manylinux2014_x86_64.whl (141 kB)\n",
            "\u001b[2K     \u001b[90m━━━━━━━━━━━━━━━━━━━━━━━━━━━━━━━━━━━━━━━━\u001b[0m \u001b[32m141.1/141.1 kB\u001b[0m \u001b[31m21.3 MB/s\u001b[0m eta \u001b[36m0:00:00\u001b[0m\n",
            "\u001b[?25hRequirement already satisfied: annotated-types>=0.4.0 in /usr/local/lib/python3.10/dist-packages (from pydantic<3,>=1->langchain) (0.6.0)\n",
            "Requirement already satisfied: pydantic-core==2.18.1 in /usr/local/lib/python3.10/dist-packages (from pydantic<3,>=1->langchain) (2.18.1)\n",
            "Requirement already satisfied: typing-extensions>=4.6.1 in /usr/local/lib/python3.10/dist-packages (from pydantic<3,>=1->langchain) (4.11.0)\n",
            "Requirement already satisfied: charset-normalizer<4,>=2 in /usr/local/lib/python3.10/dist-packages (from requests<3,>=2->langchain) (3.3.2)\n",
            "Requirement already satisfied: idna<4,>=2.5 in /usr/local/lib/python3.10/dist-packages (from requests<3,>=2->langchain) (3.7)\n",
            "Requirement already satisfied: urllib3<3,>=1.21.1 in /usr/local/lib/python3.10/dist-packages (from requests<3,>=2->langchain) (2.0.7)\n",
            "Requirement already satisfied: certifi>=2017.4.17 in /usr/local/lib/python3.10/dist-packages (from requests<3,>=2->langchain) (2024.2.2)\n",
            "Requirement already satisfied: greenlet!=0.4.17 in /usr/local/lib/python3.10/dist-packages (from SQLAlchemy<3,>=1.4->langchain) (3.0.3)\n",
            "Collecting mypy-extensions>=0.3.0 (from typing-inspect<1,>=0.4.0->dataclasses-json<0.7,>=0.5.7->langchain)\n",
            "  Downloading mypy_extensions-1.0.0-py3-none-any.whl (4.7 kB)\n",
            "Installing collected packages: packaging, orjson, mypy-extensions, jsonpointer, typing-inspect, marshmallow, jsonpatch, langsmith, dataclasses-json, langchain-core, langchain-text-splitters, langchain-community, langchain\n",
            "  Attempting uninstall: packaging\n",
            "    Found existing installation: packaging 24.0\n",
            "    Uninstalling packaging-24.0:\n",
            "      Successfully uninstalled packaging-24.0\n",
            "Successfully installed dataclasses-json-0.6.4 jsonpatch-1.33 jsonpointer-2.4 langchain-0.1.16 langchain-community-0.0.34 langchain-core-0.1.46 langchain-text-splitters-0.0.1 langsmith-0.1.51 marshmallow-3.21.1 mypy-extensions-1.0.0 orjson-3.10.1 packaging-23.2 typing-inspect-0.9.0\n"
          ]
        }
      ],
      "source": [
        "!pip install langchain"
      ]
    },
    {
      "cell_type": "code",
      "execution_count": null,
      "metadata": {
        "colab": {
          "base_uri": "https://localhost:8080/",
          "height": 49,
          "referenced_widgets": [
            "2304c6ab7f1c4f2b863980981fb46203",
            "81986ae0a0bc48debd1a8dc2642d1b17",
            "eadd066eca314dedbd7a2db687a0e3d1",
            "719e452b3e08401eb695b6bca8bc0e66",
            "5874ed75071b440dafe4b2b665e1266a",
            "54c3e4bfdff74f2e8e2076134c67174b",
            "931ca9c252714f81b89c1b02930cc9cb",
            "f7fcafae3a9b41f89b114c41063aaa0c",
            "bbf32321a2ce4e93a0120a8f80f862ec",
            "7e40c9f8eecb46b8816bf14973056394",
            "546495d66d0b4411861a6eeb9dfa9bf4"
          ]
        },
        "id": "bheGJhD8lI2Z",
        "outputId": "da59bcbe-42a9-4ac7-8a7a-7d131c08c29d"
      },
      "outputs": [
        {
          "data": {
            "application/vnd.jupyter.widget-view+json": {
              "model_id": "2304c6ab7f1c4f2b863980981fb46203",
              "version_major": 2,
              "version_minor": 0
            },
            "text/plain": [
              "  0%|          | 0/210 [00:00<?, ?it/s]"
            ]
          },
          "metadata": {},
          "output_type": "display_data"
        }
      ],
      "source": [
        "from langchain.docstore.document import Document as LangchainDocument\n",
        "RAW_KNOWLEDGE_BASE = [\n",
        "    LangchainDocument(page_content=doc[\"text\"])\n",
        "    for doc in tqdm(ds)\n",
        "]"
      ]
    },
    {
      "cell_type": "code",
      "execution_count": null,
      "metadata": {
        "colab": {
          "base_uri": "https://localhost:8080/"
        },
        "id": "YFAK9F6rlVgK",
        "outputId": "04bff887-bceb-4a8d-fff0-2524deab6934"
      },
      "outputs": [
        {
          "name": "stdout",
          "output_type": "stream",
          "text": [
            "[Document(page_content='\\ufeffCricket, England’s national summer sport, which is now played throughout the world, particularly in Australia, India, Pakistan, the West Indies, and the British Isles.'), Document(page_content=''), Document(page_content='Cricket field:'), Document(page_content='Location of wickets and principal fielding positions on a cricket field.'), Document(page_content='Cricket is played with a bat and ball and involves two competing sides (teams) of 11 players. The field is oval with a rectangular area in the middle, known as the pitch, that is 22 yards (20.12 metres) by 10 feet (3.04 metres) wide. Two sets of three sticks, called wickets, are set in the ground at each end of the pitch. Across the top of each wicket lie horizontal pieces called bails. The sides take turns at batting and bowling (pitching); each turn is called an “innings” (always plural). Sides have one or two innings each, depending on the prearranged duration of the match, the object being to score the most runs. The bowlers, delivering the ball with a straight arm, try to break (hit) the wicket with the ball so that the bails fall. This is one of several ways that the batsman is dismissed, or put out. A bowler delivers six balls at one wicket (thus completing an “over”), then a different player from his side bowls six balls to the opposite wicket. The batting side defends its wicket.'), Document(page_content=''), Document(page_content='There are two batsman up at a time, and the batsman being bowled to (the striker) tries to hit the ball away from the wicket. A hit may be defensive or offensive. A defensive hit may protect the wicket but leave the batsmen no time to run to the opposite wicket. In that case the batsmen need not run, and play will resume with another bowl. If the batsman can make an offensive hit, he and the second batsman (the nonstriker) at the other wicket change places. Each time both batsmen can reach the opposite wicket, one run is scored. Providing they have enough time without being caught out and dismissed, the batsmen may continue to cross back and forth between the wickets, earning an additional run for each time both reach the opposite side. There is an outside boundary around the cricket field. A ball hit to or beyond the boundary scores four points if it hits the ground and then reaches the boundary, six points if it reaches the boundary from the air (a fly ball). The team with the highest number of runs wins a match. Should both teams be unable to complete their number of innings before the time allotted, the match is declared a draw. Scores in the hundreds are common in cricket.'), Document(page_content=''), Document(page_content='Matches in cricket can range from informal weekend afternoon encounters on village greens to top-level international contests spread over five days in Test matches and played by leading professional players in grand stadiums.'), Document(page_content=''), Document(page_content='Origin:'), Document(page_content=''), Document(page_content='Cricket is believed to have begun possibly as early as the 13th century as a game in which country boys bowled at a tree stump or at the hurdle gate into a sheep pen. This gate consisted of two uprights and a crossbar resting on the slotted tops; the crossbar was called a bail and the entire gate a wicket. The fact that the bail could be dislodged when the wicket was struck made this preferable to the stump, which name was later applied to the hurdle uprights. Early manuscripts differ about the size of the wicket, which acquired a third stump in the 1770s, but by 1706 the pitch—the area between the wickets—was 22 yards long.'), Document(page_content=''), Document(page_content='The ball, once presumably a stone, has remained much the same since the 17th century. Its modern weight of between 5.5 and 5.75 ounces (156 and 163 grams) was established in 1774.'), Document(page_content=''), Document(page_content='The primitive bat was no doubt a shaped branch of a tree, resembling a modern hockey stick but considerably longer and heavier. The change to a straight bat was made to defend against length bowling, which had evolved with cricketers in Hambledon, a small village in southern England. The bat was shortened in the handle and straightened and broadened in the blade, which led to forward play, driving, and cutting. As bowling technique was not very advanced during this period, batting dominated bowling through the 18th century.'), Document(page_content=''), Document(page_content='The early years:'), Document(page_content=''), Document(page_content='The earliest reference to an 11-a-side match, played in Sussex for a stake of 50 guineas, dates from 1697. In 1709 Kent met Surrey in the first recorded intercounty match at Dartford, and it is probable that about this time a code of laws (rules) existed for the conduct of the game, although the earliest known version of such rules is dated 1744. Sources suggest that cricket was limited to the southern counties of England during the early 18th century, but its popularity grew and eventually spread to London, notably to the Artillery Ground, Finsbury, which saw a famous match between Kent and All-England in 1744. Heavy betting and disorderly crowds were common at matches.'), Document(page_content=''), Document(page_content='The aforementioned Hambledon Club, playing in Hampshire on Broadhalfpenny Down, was the predominant cricket force in the second half of the 18th century before the rise of the Marylebone Cricket Club (MCC) in London. Formed from a cricket club that played at White Conduit Fields, the club moved to Lord’s Cricket Ground in St. Marylebone borough in 1787 and became the MCC and in the following year published its first revised code of laws. Lord’s, which was named after its founder, Thomas Lord, has had three locations over its history. Moving to the current ground in St. John’s Wood in 1814, Lord’s became the headquarters of world cricket.'), Document(page_content=''), Document(page_content=''), Document(page_content='In 1836 the first match of North counties versus South counties was played, providing clear evidence of the spread of cricket. In 1846 the All-England XI, founded by William Clarke of Nottingham, began touring the country, and from 1852, when some of the leading professionals (including John Wisden, who later compiled the first of the famous Wisden almanacs on cricketing) seceded to form the United All-England XI, these two teams monopolized the best cricket talent until the rise of county cricket. They supplied the players for the first English touring team overseas in 1859.'), Document(page_content=''), Document(page_content='Technical development:'), Document(page_content=''), Document(page_content='Until early in the 19th century all bowling was underhand, and most bowlers favoured the high-tossed lob. Next came “the round-arm revolution,” in which many bowlers began raising the point at which they released the ball. Controversy raged furiously, and in 1835 the MCC rephrased the law to allow the hand to be raised as high as the shoulder. The new style led to a great increase in pace, or bowling speed. Gradually bowlers raised the hand higher and higher in defiance of the law. Matters were brought to a head in 1862 when an England team playing against Surrey left the field at London’s Kennington Oval in protest over a “no ball” call (i.e., an umpire’s decision that the bowler has thrown an illegal pitch). The argument centred on whether the bowler should be allowed to raise his arm above the shoulder. As a result of this controversy, the bowler was in 1864 officially accorded liberty to bowl overhand (but not to cock and straighten the arm). This change dramatically altered the game, making it yet more difficult for a batsman to judge the ball. Already a bowler was allowed to take a running start from any direction and for any distance. Once the bowler was allowed to release overhand, the ball could then reach speeds above 90 mph (145 km/hr). Though this is not as fast as the pitching speed in baseball, cricket has an additional twist in that the ball is usually delivered so as to bounce on the pitch (field) before the batsman can hit it. Thus, the ball may curve to the right or the left, bounce low or high, or spin toward or away from the batsman.'), Document(page_content=''), Document(page_content='Batsmen learned to protect themselves with pads and batting gloves, and a cane handle increased the resilience of the bat. Only the best batsmen, however, could cope with fast bowling, because the poor condition of most pitches made it yet more difficult for a batsman to predict the motion of the ball. As the grounds improved, however, batsmen grew accustomed to the new bowling style and went on the offensive. Other new bowling styles were also discovered, causing batsmen to adjust their technique further.'), Document(page_content=''), Document(page_content='W.G. Grace (right), batting in an 1890s cricket match.'), Document(page_content='In the early 20th century so many runs were being scored that debate ensued on reforming the “leg-before-wicket” law, which had been introduced in the 1774 laws to prohibit a batsman from using his body to prevent the ball from hitting his wicket. But the heavy scores were actually due to the performances of several outstanding batsmen, such as W.G. Grace, Sir John Berry Hobbs, and K.S. Ranjitsinhji (later the maharaja of Nawanagar). This was cricket’s golden age.'), Document(page_content=''), Document(page_content='In the 20th century there was a series of attempts to aid the bowler and quicken the tempo of the game. Nevertheless, the game by the mid-20th century was characterized not by overwhelming offense but by defensive play on both sides and by a slow pace. In an attempt to shore up a declining fan base, one-day, or limited-overs, cricket was introduced. One-day cricket had first been played internationally when, after a Test match was rained out for the first days, on the last scheduled day of play a limited-overs match was held in order to give the fans some game to watch. The response was enthusiastic, and one-day cricket came into being. In this version of cricket the limited number of overs (usually 50 per side) leads to a faster paced though much-altered game. In one-day cricket there are some restrictions on placement of fielders. This led to new batting styles, such as the paddle shot (wherein the ball is hit behind the wicket because there are usually no fielders there) and the lofted shot (where the batsman tries to hit the ball past the fielders and over their heads). Twenty20 (T20), a style of one-day cricket consisting of 20 overs per side, debuted in 2003 and quickly became an international sensation. The first Twenty20 world championship was held in 2007, and one-day cricket, particularly Twenty20, became more popular than Test matches worldwide, although Test cricket retained a large following in England. The pace of Test matches increased dramatically in the late 20th century with the introduction of new bowling strategies.'), Document(page_content=''), Document(page_content='Organization of sport and types of competition:'), Document(page_content='County and university cricket:'), Document(page_content='Some of the earliest organized cricket matches were between amateur and professional players. From 1806 (annually from 1819) to 1962, the Gentlemen-versus-Players match pitted the best amateurs against the best professionals. The series was ended in 1962 when the MCC and the counties abandoned the distinction between amateurs and professionals. Other early cricket matches took place between British universities. The Oxford-versus-Cambridge match, for example, has been played mainly at Lord’s since 1827 and became a high point of the summer season in London.'), Document(page_content=''), Document(page_content='University cricket was a kind of nursery for county cricket—i.e., matches between the various counties of England. Although the press acclaimed a “champion county” (Sussex) as early as 1827, qualification rules for county cricket were not laid down until 1873, and it was only in 1890 that the format of the county championship was formalized by the counties themselves. Gloucestershire dominated the 1870s, thanks to W.G. Grace and his brothers E.M. and G.F. Grace. From the 1880s to World War I, Nottinghamshire, Surrey, Yorkshire, Lancashire, Kent, and Middlesex constituted the Big Six that dominated county cricket. After World War I the northern counties, led by Yorkshire and Lancashire, largely professional teams, were the leaders. Surrey, with seven successive championships, dominated in the 1950s and Yorkshire in the 1960s, followed by Kent and Middlesex in the 1970s. The 1980s were dominated by Middlesex, Worcestershire, Essex, and Nottinghamshire. Other counties in first-class county cricket are Leicestershire, Somerset, Hampshire, Durham, Derbyshire, Warwickshire, Sussex, Northamptonshire, and Glamorgan.'), Document(page_content=''), Document(page_content='After a postwar boom, slow play and lower numbers of runs characterized the 1950s, and this defensive nature of county cricket led to progressively decreased attendance. In the 1960s the MCC and the counties introduced a one-day knockout competition—called the Gillette Cup (1963–1980), the NatWest Bank Trophy (1981–2000), the C&G Trophy (2000–06), and the Friends Provident Trophy (2006–09)—and a separate Sunday afternoon league (the two competitions were merged in 2010 as the Clydesdale Bank 40), which revived public interest, although most counties remained dependent financially on proceeds from football pools and money received from Test matches and broadcasting fees. The immediate registration of overseas players was permitted, and each county, as of the early 1980s, was allowed one such player, who could, however, still play for his national team. The change worked well for the counties, and it also strengthened the national teams for whom those players appeared. In county cricket, bonus points were created to encourage batsmen and bowlers to play less defensively, and from 1988, to help the development of young batsmen and spin bowlers, four-day games increasingly replaced the three-day format. The longer game gives batsmen more time to build an innings and relieves them of the pressure to score runs quickly. Spin bowlers benefit from the longer game because the pitch wears as the game progresses and permits greater spin.'), Document(page_content=''), Document(page_content='The Cricket Council and the ECB:'), Document(page_content='A reorganization of English cricket took place in 1969, resulting in the end of the MCC’s long reign as the controlling body of the game, though the organization still retains responsibility for the laws. With the establishment of the Sports Council (a government agency charged with control of sports in Great Britain) and with the possibility of obtaining government aid for cricket, the MCC was asked to create a governing body for the game along the lines generally accepted by other sports in Great Britain. The Cricket Council, comprising the Test and County Cricket Board (TCCB), the National Cricket Association (NCA), and the MCC, was the result of these efforts. The TCCB, which amalgamated the Advisory County Cricket Committee and the Board of Control of Test Matches at Home, had responsibility for all first-class and minor-counties cricket in England and for overseas tours. The NCA consisted of representatives from clubs, schools, armed services cricket, umpires, and the Women’s Cricket Association. In 1997 there was another reorganization, and the TCCB, the NCA, and the Cricket Council were all subsumed under the England and Wales Cricket Board (ECB).'), Document(page_content=''), Document(page_content='International cricket'), Document(page_content=\"J.P. Morgan Media Centre, Lord's Cricket Ground\"), Document(page_content=\"J.P. Morgan Media Centre, Lord's Cricket Ground\"), Document(page_content=\"The futuristic J.P. Morgan Media Centre at Lord's Cricket Ground, London.\"), Document(page_content='International cricket in the early part of the 20th century was dominated by the original members of the Imperial Cricket Conference, England, Australia, and South Africa. Later renamed the International Cricket Conference and then the International Cricket Council, the ICC gradually took over more responsibility for the administration of the game and shifted its power base from west to east. When in 2005 the ICC moved its offices from Lord’s in London—home of the MCC, the game’s original rulers and still its lawmakers—to Dubai, the shift away from the old ways of governance was complete. The priorities of the game changed too. By the turn of the 21st century, only Australia and England still played Test cricket to full houses. Everywhere else, and particularly in India and Pakistan, crowds flocked to see limited-overs internationals. Test cricket became almost an afterthought. Although the power to change the laws of the game have remained with the MCC, the ICC developed its own Code of Conduct for players, officials, and administrators, which sets out disciplinary procedures and protects the spirit of the game. It also organized major international tournaments, including the one-day and Twenty20 World Cups and the Champions Trophy. In 2000 the ICC set up the Anti-Corruption Unit (renamed the Anti-Corruption Unit and Security Unit in 2003) to combat the growing threat of illegal gambling and match fixing. At the beginning of the 2010s, the ICC had 10 full members and dozens of associate and affiliate members. By the end of 2023, it had 12 full members and 94 associate members.'), Document(page_content=''), Document(page_content='Australia'), Document(page_content=''), Document(page_content=\"D.M. Jones, batsman for Australia's team in a cricket Test match, placing the ball to the leg side against England's team.\"), Document(page_content='One of the founding members of the ICC, Australia remains one of its most powerful countries both on and off the field. The history of cricket in Australia dates to 1803 when the game was introduced by the crew of a British ship. The first intercolonial match took place in 1851 between Victoria and Tasmania, and by the end of the 19th century teams from England were touring Australia regularly. The first official Test match was played in Melbourne in 1877 by Australia and England, beginning the oldest rivalry in international cricket, a series that became known as The Ashes (see Test Matches below).'), Document(page_content=''), Document(page_content='Cricket is played throughout Australia, and matches are ferociously competitive at every level. All the great Australian players from Sir Don Bradman to Shane Warne developed their skills in club cricket before graduating to the state and national teams, and the Australian style of cricket is marked by aggressiveness with bat, ball, and, often, voice in an attempt to intimidate opponents. Through the 20th century, Australia produced a series of outstanding teams, and the country dominated international cricket into the new century, winning three successive one-day World Cups (1999–2007) and twice recording runs of 16 consecutive Test victories (1999–2001 and 2005–08). In 2005 England’s Test victory over Australia, the first since 1987, was celebrated with an open-top bus ride through the city of London. Australia also won the 2015 and 2023 one-day World Cups.'), Document(page_content=''), Document(page_content='Bangladesh'), Document(page_content='In June 2000 Bangladesh became the 10th country to be accorded full Test status. It played its first Test match in November of that year, against India in Dhaka. Known as the Tigers, the Bangladeshi team struggled to perform at the highest level, winning only three of its first 68 Tests. However, Bangladesh has defeated the nine countries that preceded it to Test status in one-day matches, a feat completed with a victory over England in Bristol in 2010. Bangladesh’s first appearance in an international tournament had come in England in the ICC Trophy competition for associate members in 1979. In 1997 Bangladesh won the trophy and qualified for the 1999 World Cup, beating Pakistan in the group stages. A domestic first-class tournament between six regional teams was established in 2000–01. Since Bangladesh gained Test status, cricket arguably has become the most popular sport in the country.'), Document(page_content=''), Document(page_content='Assorted sports balls including a basketball, football, soccer ball, tennis ball, baseball and others.'), Document(page_content=''), Document(page_content='American Sports Nicknames'), Document(page_content=''), Document(page_content='Cricket is played in every corner of India, on city streets, in village fields, and on maidans—open playing fields, the largest of which (such as the Azad, Cross, and Oval maidans in South Mumbai) can host dozens of overlapping matches. Historically, Indian cricketers have displayed a good eye and strong wrists, and Indian batsmen, most notably Sunil Gavaskar, Sachin Tendulkar, and Virat Kohli, have been some of the most productive and stylish in the history of cricket. The dry flat pitches of the subcontinent have also traditionally produced high-class spin bowlers.'), Document(page_content=''), Document(page_content='The origins of the game in India date to the 18th century. A touring team led by the English cricketer Lord Hawke played a match against the “All India” team in January 1893. India played its first Test in 1932 and waited 20 years for its first Test victory, against England in Madras (now Chennai). The game developed so fast in India, however, that by the end of the 20th century India was one of the world’s foremost cricketing countries. With the growth of the Indian Premier League in the early 21st century, it became the undisputed home of Twenty20 cricket and the financial hub of the international game, though the popularity of Test cricket has declined dramatically in India. India’s prominence in one-day cricket was further confirmed when it won the Cricket World Cup in 2011.'), Document(page_content=''), Document(page_content='New Zealand'), Document(page_content='2015 Cricket World Cup'), Document(page_content='2015 Cricket World Cup'), Document(page_content=\"New Zealand's Ross Taylor batting a ball as South African wicketkeeper Quinton De Kock (right) watches during a Cricket World Cup semifinal in Auckland, New Zealand, March 24, 2015.\"), Document(page_content='Cricket has always taken second place to rugby in the sports priorities of New Zealanders, but, as in Australia, the game has a strong national structure in New Zealand. The long history of domestic cricket in the country is often dated from the first representative interprovincial match, between Auckland and Wellington, in 1860, though there is evidence that unofficial matches between provinces were played in New Zealand decades earlier. The NZ Cricket Council was formed in 1894 and was admitted to full membership of the ICC in 1926. With only a small base of players on which to draw, New Zealand has always struggled to compete with England and Australia in Test cricket. As in most cricketing countries, the one-day game has proved more popular in New Zealand. In Richard Hadlee, who was knighted in 1990, the country produced one of the greatest cricketers of any era.'), Document(page_content=''), Document(page_content='Pakistan'), Document(page_content='The development of cricket in Pakistan has been chaotic, quixotic, and exotic in roughly equal measure. Under the leadership of Imran Khan, Pakistan won the 1992 World Cup, but often its cricket was blighted by political interference and scandal. A low point was reached in 2010: To begin with, the national team was in virtual exile, unable to persuade other countries to play in Pakistan for fear of terrorist attacks in the wake of an assault in Lahore on the visiting Sri Lankan team bus in March 2009 that left six policemen dead and several players injured. Moreover, three members of the Pakistani team touring England were involved in allegations of “spot fixing”—that is, fixing the results of certain bowls in return for money—and were banned by the ICC. Huge profits could be made in illegal betting markets in Asia by predicting the results of individual bowls. Only a few years earlier several Pakistan players also had been banned as a result of investigations over match fixing. Yet Pakistan has also produced a host of talented cricketers such as Khan, Wasim Akram, Abdul Qadir, and Inzamam-ul-Haq and has proved itself adept at Twenty20 cricket, winning the T20 World Cup in 2009.'), Document(page_content=''), Document(page_content='South Africa'), Document(page_content='South Africa played its first Test, against England in Port Elizabeth, as early as in 1889. Cricket has been at the heart of the country’s sporting culture ever since. When South Africa was banned from the ICC from 1970 to 1991 because of its apartheid policies, cricket administrators worked quietly to integrate nonwhite players into the system, which was based largely on traditional all-white schools and state teams. When apartheid was abolished, cricket was far more prepared to cope with the social and political changes than was rugby union. Makhaya Ntini, a world-class fast bowler, who made his international debut for South Africa in 1998 and played in more than 100 Tests, served as a role model for the new generation of Black cricketers. On the other hand, in 2000 Hansie Cronje, the captain of South Africa, was banned for match fixing in a scandal that brought into question the integrity of South African cricket. It was not until 2003, when South Africa hosted a successful World Cup, that the rehabilitation of country’s cricketing reputation was complete. South Africa has always been a great exporter of cricketers, mainly to England. Allan Lamb and Robin Smith were prominent members of the England team in the 1980s and ’90s; Kevin Pietersen and Jonathan Trott were mainstays of the Ashes-winning side of 2010.'), Document(page_content=''), Document(page_content='Sri Lanka'), Document(page_content='Even before Test status was awarded to Sri Lanka in 1981, the island country was a popular destination for touring teams, particularly for English teams on the way to Australia by boat. Given the disadvantages of its relatively small population and of the civil war that disrupted life on the island for three decades, Sri Lanka developed into a top cricketing country with surprising speed. In 1996 it won the World Cup, beating Australia in the final by playing aggressive, innovative cricket under the inspired leadership of Arjuna Ranatunga. The victory instilled belief in a new generation of players that included Sanath Jayasuriya; Mahela Jayawardene, an elegant and aggressive batsmen; and Muttiah Muralitharan, who in 2010 became the first bowler to take 800 Test wickets. The Indian Ocean tsunami of 2004 devastated the cricket-playing regions of southern Sri Lanka, including the Test match ground at Galle, and took the lives of many promising young players. Nonetheless, Sri Lanka recovered to reach the World Cup final again in 2007. Calamity struck again in 2009, when the Sri Lankan team’s bus was attacked by terrorists on the way to the ground for the second Test against Pakistan in Lahore.'), Document(page_content=''), Document(page_content='West Indies'), Document(page_content='Cricket has been a unifying force in the Caribbean since the West Indies became the fourth Test-playing side in 1928. The islands have generally played other sports as independent countries, but British colonial influence contributed to the formation of a united regional team. For a time in the 1970s and ’80s, when the West Indian team featured a quartet of fast bowlers—led by Michael Holding, Malcolm Marshall, Andy Roberts, and Joel Garner—and batsmen of the destructive capacity of Sir Viv Richards and Clive Lloyd, the West Indies were virtually unbeatable. Blessed with an abundance of talented players and true pitches, Caribbean cricket has always been played with an unorthodox flourish, seen most clearly in the batsmanship of Sir Garfield Sobers, Richards, and Brian Lara.'), Document(page_content=''), Document(page_content='In the 21st century cricket declined in popularity in the West Indies, a result of a lack of strong administrative leadership and because of the increasing appeal of potentially more lucrative sports such as athletics (track and field), football (soccer) and basketball. After playing in the finals of the first three World Cups (1975, 1979, and 1983) and winning the first two, the West Indian team failed—with the exception of 1996—to reach even the knockout stage of subsequent World Cups, including in 2007, as the host of the event.'), Document(page_content=''), Document(page_content='Zimbabwe'), Document(page_content='Until Test status was granted to Zimbabwe in 1992, the country’s best cricketers, such as Colin Bland, played for South Africa. Indeed, the history of the cricket in the two countries has been inextricably linked. Long before the newly independent and renamed Zimbabwe became an associate member of the ICC in 1980, teams representing its Rhodesian forerunner states had participated in the Currie Cup, the South African domestic first-class tournament (first in 1904–05, then in the early 1930s, and again after World War II). Competing in its first World Cup in 1983, Zimbabwe surprised the world by beating Australia, yet Graeme Hick, arguably the country’s best batsman, left shortly thereafter to play for England.'), Document(page_content=''), Document(page_content='Zimbabwean cricket in the early 21st century has been marked by chaotic administration and political interference. In 2004 Heath Streak was sacked as captain of the national team, precipitating a crisis from which Zimbabwe took years to emerge, including an exile from Test cricket that began in 2006 and ended in 2011. The country’s political volatility during this period had much to do with the situation. In the 2003 World Cup, for example, England forfeited its match in Zimbabwe, citing security concerns. During the same tournament, two Zimbabwe players, Andy Flower and Henry Olonga, wore black armbands to “mourn the death of democracy” in their country.'), Document(page_content=''), Document(page_content=''), Document(page_content='Test matches'), Document(page_content=''), Document(page_content='The first Test match, played by two national teams, was between Australia and England in Melbourne in 1877, with Australia winning. When Australia again won at the Oval at Kennington, London, in 1882, the Sporting Times printed an obituary notice announcing that English cricket would be cremated and the ashes taken to Australia, thus creating the “play for the Ashes.” The Ashes, kept in an urn at Lord’s irrespective of which country is victorious, are supposed to be those of a bail burned on the England tour of Australia in 1882–83. For the rest of the 19th century, the two countries met almost yearly. With W.G. Grace, the greatest cricketer of Victorian England, on its side, England was often too strong for the Australians, though Australia had the greatest bowler of this era in F.R. Spofforth and the first of the great wicketkeepers in J.McC. Blackham.'), Document(page_content=''), Document(page_content='In 1907 South Africa first played Test matches in England and also took on Australia, whose dominance between the two World Wars was symbolized by the prodigious run scoring of Sir Don Bradman. This period saw a notable growth in the number of Test match countries with the arrival of the West Indies in 1928, New Zealand in 1930, and India in 1932.'), Document(page_content=''), Document(page_content='The visit of the English side to Australia in 1932–33 severely strained relations between the countries because of the use of “bodyline” bowling tactics, in which the ball was bowled close to or at the batsman. This scheme was devised by the English captain, D.R. Jardine, and involved fast short-pitched deliveries bowled to the batsman’s body so that the batter would be hit on the upper body or head or, alternatively, would be caught out by one of the fielders on the leg side (the side behind the striker when in a batting stance). The plan was devised to curb Bradman’s scoring, but it led to a large number of serious injuries on the Australian team. The practice was felt to be unsportsmanlike by the Australians, who protested vigorously. The series was played out (with England winning 3–1), but it created bitter feeling on the part of Australia for some time to come. Bodyline bowling tactics were banned soon after the series.'), Document(page_content=''), Document(page_content='After World War II there were Test matches in England every summer, Australia being the most frequent visitor, and the Test ranks were increased by the addition of Pakistan in 1952. There was a steady escalation of tours between the Test-playing countries to the extent that, while the first 500 Test matches were spread over 84 years, the next 500 occupied only 23. Sri Lanka’s entry in 1982 as the eighth Test-playing country came during an era dominated by the West Indies, whose devastating attack was founded, for the first time in cricket history, on four fast bowlers. Zimbabwe was admitted as a Test country in 1992 and Bangladesh in 2000.'), Document(page_content=''), Document(page_content=''), Document(page_content='Australia: Cricket'), Document(page_content='One-day internationals—answering the complaint that Test matches went on too long—began in 1972. In 1975 the first World Cup was contested in England in a series of one-day matches of 60 overs a side (the number of overs was reduced to 50 in 1987). The event was a great success and continued at four-year intervals. It was held outside England, in India and Pakistan, for the first time in 1987.'), Document(page_content=''), Document(page_content='Test cricket has faced a number of crises since the late 1960s. In one such case in 1969–70, a South African tour of England was canceled because of opposition to South African apartheid. Violence, damage, and disruption of play had been threatened. A further threat to Test cricket was posed by an Australian television network executive, Kerry Packer, who signed many of the world’s leading players for a series of private contests between 1977 and 1979. Reprisals were brought against the players but were overruled after court action in England. The players returned to the fold, but commercialism had taken hold of the game. In 1982 the agreement of 12 first-class English players to take part—in breach of official guidelines—in a commercially sponsored South African tour with fees of up to £50,000 per player led to the players’ being banned from Test cricket for three years. Cricketers from Sri Lanka and the West Indies also toured South Africa and received more stringent sanctions, and the engagement of English professionals as players and coaches in South Africa threatened a serious division between the Test-playing countries that ended only with the repeal of apartheid.'), Document(page_content=''), Document(page_content='Test cricket was again rocked by a scandal that began in 1999 regarding match fixing. While betting on matches had been common in England in the early days of cricket, many Test countries had banned such betting in the modern era. In India and Pakistan betting on cricket was legal, however, and cricketers playing international matches there reported being asked by bookmakers and betting syndicates to underperform in return for money. Members of the Australian, South African, Indian, and Pakistani national teams were all tainted by this scandal, several players were banned from cricket for life, and the integrity of the game was called into question.'), Document(page_content=''), Document(page_content=''), Document(page_content='21st-century developments:'), Document(page_content='The advent of Twenty20 cricket (T20) and the wild success of the IPL in the first decade of the 21st century led to a period of great innovation in the game. The new, truncated form of the game privileged batting, partly by restricting the placement of fielders and shortening the boundaries. To counter free-scoring batsmen with heavy bats, bowlers began to perfect a great variety of different balls (deliveries). Disguise became an essential part of the bowler’s armoury. Slow spin-bowling, which forces the batsman to generate “pace” (that is, to provide the bulk of the power to propel the batted ball, whereas fast bowling contributes more force to the batsman’s swing), proved a surprisingly effective weapon. Among the new shots that became commonplace for batsmen in T20 cricket was the reverse sweep, wherein a right-handed batsman, in mid-delivery, changes hands to swing at the ball like a left-hander (or a left-hander swings like a right-hander). Batters also began employing the scoop, a shot played almost vertically over the wicketkeeper’s head. Test cricket also benefited from these new techniques and from the new era of creativity, not least from the introduction of the doosra, a delivery disguised to look like an off-spinner that actually turns away from the right-handed batsman like a leg-spinner. Developed by the Pakistan off-spinner Saqlain Mushtaq and taking its name from the Urdu expression meaning “the other one,” the ball was perfected by Muttiah Muralitharan of Sri Lanka,'), Document(page_content=''), Document(page_content='Cricket also followed other sports in its use of video technology in making onfield decisions. Initially, from its first trial in 1992, only line decisions such as run outs were decided by referral to a third umpire off the field. But in 2008 a new referral system, in which players were allowed to refer any onfield decision to the third umpire, made its international debut in a series between India and Sri Lanka (it had been put on trial in English county cricket in 2007). Each side receives two referrals every innings (down from three when the system was first tried out). Referrals that result in the umpire changing an original decision are not counted against this total. The system was designed to eradicate an umpire’s innocent but obvious mistake and has been greeted with more enthusiasm by players than umpires.'), Document(page_content=''), Document(page_content=''), Document(page_content='Women’s cricket'), Document(page_content='Women first played cricket in England in the 18th century. In 1887 the first club, White Heather, was formed, and it survived to 1957. In 1890 two professional teams known collectively as the Original English Lady Cricketers were in action.'), Document(page_content=''), Document(page_content='In 1926 the Women’s Cricket Association was founded, and in 1934–35 it sent a team to Australia and New Zealand. Australia paid a return visit in 1937, and, since World War II, tours have increased. The International Women’s Cricket Council was formed in 1958 by Australia, England, the Netherlands, New Zealand, and South Africa and later included India, Denmark, and several West Indian islands. A World Cup was instituted in 1973, two years ahead of men’s cricket, and England and Australia played in the first women’s matches at Lord’s in 1976.'), Document(page_content=''), Document(page_content='In 2023 the Board of Control for Cricket in India (BCCI) inaugurated the Women’s Premier League (WPL). The 2023 WPL featured 5 teams and Mumbai Indians won the final against Delhi Capitals. The 2024 WPL will once again be between Mumbai Indians and Delhi Capitals.'), Document(page_content=''), Document(page_content=''), Document(page_content='Field of play, equipment, and dress:'), Document(page_content=''), Document(page_content='Cricket grounds vary in size from great arenas, such as the main playing area at Lord’s in London (5.5 acres [2.2 hectares]) and the even larger Melbourne Cricket Ground, to village greens and small meadows. Level turf of fine texture is the ideal surface, but where this is unavailable any artificial covered surface—such as coir (fibre) matting or artificial turf on a firm base—may be used. The limits of the playing area are usually marked by a boundary line or fence.'), Document(page_content=''), Document(page_content='A wicket consists of three stumps, or stakes, each 28 inches (71.1 cm) high and of equal thickness (about 1.25 inches in diameter), stuck into the ground and so spaced that the ball cannot pass between them. Two pieces of wood called bails, each 4.37 inches (11.1 cm) long, lie in grooves on the tops of the stumps. The bails do not extend beyond the stumps and do not project more than half an inch above them. The whole wicket is 9 inches (22.86 cm) in width. There are two of these wickets, which a batsman defends and a bowler attacks, and they are approximately in the centre of the ground, facing one another at each end of the pitch.'), Document(page_content=''), Document(page_content='Lines of whitewash demarcate the creases at each wicket: the bowling crease is a line drawn through the base of the stumps and extending 4.33 feet (1.32 metres) on either side of the centre stump; the return crease is a line at each end of and at right angles to the bowling crease, extending behind the wicket; and the popping crease is a line parallel with the bowling crease and 4 feet in front of it. The bowling and return creases mark the area within which the bowler’s rear foot must be grounded in delivering the ball; the popping crease, which is 62 feet (18.9 metres) from the opposing bowling crease, demarks the batsman’s ground. When a batsman is running between wickets, the crease represents the area in which he is “safe” (in baseball parlance) and only a cricketer’s bat need be in the crease; thus a batsman will often place just the tip of the bat over the line of the crease and then begin to run for the opposite wicket.'), Document(page_content=''), Document(page_content='cricket bat and ball'), Document(page_content='The blade of the paddle-shaped bat is made of willow and must not be broader than 4.25 inches (10.8 cm). The length of the bat, including the handle, must not exceed 38 inches (96.5 cm). The ball, which has a core of cork built up with string, was traditionally encased in polished red leather, although white is now frequently used, especially for night games. The halves of the ball are sewn together with a raised seam (the seam being like the equator on a globe, not like the curved seam of a baseball or tennis ball). Slightly smaller, harder, and heavier than a baseball, it must weigh between 5.5 and 5.75 ounces (156 and 163 grams) and measure between 8.8 and 9 inches (22.4 and 22.9 cm) in circumference. In the early days of cricket it was common to use the same ball for an entire match, which allowed for pitches with more swerve and movement as the match wore on. Even today a cricket ball may stay in play for an entire day of a match, and, as the ball gets more used, it is progressively more difficult to hit.'), Document(page_content=''), Document(page_content='Cricket attire has evolved with men’s fashion. In the 18th century cricketers wore tricorne hats, knee breeches, silk stockings, and shoes with buckles. More colourful dress was common on the field in the 18th century, and only in the late 19th century did the uniform long associated with cricket arrive: white flannel trousers with a white shirt and V-necked sweater, the sweater often trimmed with club colours. Players have worn a myriad of hat styles, including top hats and straw hats, but in the 1880s the coloured cap became the norm. White buckskin shoes also became popular for men in the 1880s, and cricketers then adopted the white shoes (known, however, as boots) that are traditionally worn with flannels. In a break with tradition, late 20th-century players began to wear brightly coloured clothing to differentiate between teams on the grounds. By the 21st century the predominant outfit for cricket was a loose-fitting polo shirt (either short- or long-sleeved) with matching trousers and spiked cleats for traction.'), Document(page_content=''), Document(page_content='With the advent of fast bowling, cricketers adopted protective dress. The batsman wears white pads (leg guards), an abdominal protector, and batting gloves to protect the fingers; batsmen may also wear helmets and other protection. The wicketkeeper also wears pads and reinforced gauntlets (the other fielders do not wear gloves).'), Document(page_content=''), Document(page_content='Rules of the game'), Document(page_content='One player on each team acts as captain. There are two umpires—one standing behind the bowler’s wicket, the other at the position called square leg about 15 yards from the batsman’s popping crease (see the figure)—to control the game according to the laws; two scorers record its progress. The object of the game is for one side to score more runs than the other.'), Document(page_content=''), Document(page_content='At the start of a match, the captain who wins the toss of a coin decides whether his own or the other side shall take first innings—i.e., proceed successively as batsmen, the first two as a pair together, to the wicket and try to make as many runs as possible against the bowling and fielding of their opponents. There are three methods by which an innings is completed: (1) when 10 batsmen have been dismissed (the remaining batsman, having no partner, is declared “not out”); (2) when the captain of the batting side declares his innings closed before all 10 men are out (a captain may decide to declare if his team has a large lead in runs and he fears that the innings will continue so long that the opposing team will not have time to get in their full innings and the game will therefore be a draw); or (3) in a match of one innings a side, when the allotted number of overs expires. Results are recorded by the margin of runs or, if the side batting last passes the other side’s total before all their batsmen have been dismissed, by the number of their wickets (i.e., batsmen still to be dismissed) outstanding.'), Document(page_content=''), Document(page_content='Matches are decided either by the number of runs scored in one innings each (usually for one-day matches) or on the aggregate of runs made by each side in two innings. Test matches last five days (30 playing hours), other first-class matches from three to four days, and the bulk of club, school, and village matches one day.'), Document(page_content=''), Document(page_content='The nonbatting side takes up positions in the field. One man is the bowler (similar to the pitcher in baseball), another is the wicketkeeper (similar to the catcher), and the remaining nine are positioned as the captain or the bowler directs (see the figure). The first batsman (the striker) guards his wicket by standing with at least one foot behind the popping crease. His partner (the nonstriker) waits behind the popping crease at the bowler’s end. The bowler tries to hit the batsman’s wicket or to dismiss him in other ways.'), Document(page_content=''), Document(page_content='Runs'), Document(page_content='The batsman tries to keep the bowler from hitting the wicket, while also trying to hit the ball sufficiently hard to score a run, i.e., enable him to run to the other end of the pitch before any fieldsman can pick up the ball and throw it to either wicket to knock off the bails. If the wicket is broken, either by a thrown ball or by the wicketkeeper or bowler with ball in hand, before either batsman is in his ground, the batsman is dismissed. The striker does not have to run after he has hit the ball, nor does it count in any way if he misses the ball or if his body is struck by it. But if he gets a good hit and thinks he can score a run, he races for the opposite wicket and his partner runs toward him. When each has made good his ground by touching his bat beyond the popping crease at the opposite end, one run is recorded to the striker; if there is time, each will run back for a second or more runs, crossing again. If an even number of runs is scored, the striker will receive the next ball; if an odd number, then the nonstriker will be at the wicket opposite the bowler and will face the next ball. Any runs thus made count to the batsman, otherwise they are extras. When a ball from a hit or any of the extras mentioned below goes as far as the boundary, the runners stop and four runs are scored. If the batsman hits the ball full pitch over the boundary (on the fly), he scores six runs.'), Document(page_content=''), Document(page_content='Extras'), Document(page_content='Only runs scored from the bat count to the batsman, but to the side’s score may be added the following extras: (1) byes (when a ball from the bowler passes the wicket without being touched by the bat and the batsmen are able to make good a run); (2) leg byes (when in similar circumstances the ball has touched any part of the batsman’s body except his hand); (3) wides (when a ball passes out of reach of the striker); (4) no balls (improperly bowled balls; for a fair delivery the ball must be bowled, not thrown, the arm neither bent nor jerked, and in the delivery stride some part of the bowler’s front foot must be behind or covering the popping crease), off which a batsman cannot be out (except as noted under Methods of dismissal below) and which, apprised in time by the umpire’s cry of “no ball,” he may try to hit.'), Document(page_content=''), Document(page_content='Overs'), Document(page_content='When a bowler has bowled six balls (occasionally, eight balls), not counting wides and no balls, he has completed an over. The batsmen remain where they are and a new over is begun by a different bowler at the opposite wicket, with a corresponding adjustment of the positions of the players in the field. If a bowler delivers a complete over without a run being scored from the bat (even though the opponents may have scored extras by means of byes or leg byes), he has achieved a maiden over. In one-day cricket, no bowler is allowed to bowl more than 10 overs in a 50-over match.'), Document(page_content=''), Document(page_content='Methods of dismissal'), Document(page_content='It is important to remember that in cricket, unlike in baseball, a batsman need not hit the ball bowled at him to maintain his at bat. Further, should the batsman hit the ball and, in his judgment, be unable to reach the other wicket before a fieldsman can handle the ball, he may stay put at his wicket and no penalty occurs. The batsman’s primary task is to defend the wicket, not to get hits or score runs. That being said, there are 10 ways in which a batsman or striker can be dismissed (put out); they are listed from most common to least:'), Document(page_content=''), Document(page_content='The batsman is “caught out” if a ball hit by the batsman is caught before it touches the ground.'), Document(page_content=''), Document(page_content='He is “bowled out” if the bowler breaks the wicket, i.e., dislodges a bail with the ball, which includes when the batsman hits the ball into his own wicket.'), Document(page_content=''), Document(page_content='The batsman is out “leg before wicket” (lbw) if he intercepts with any part of his person (except his hand) that is in line between wicket and wicket a ball that has not first touched his bat or his hand and that has or would have pitched (hit the ground) in a straight line between the wickets or on the off side provided the ball would have hit the wicket. The batsman may also be out lbw if he intercepts the ball outside the off-side stump having made no genuine attempt to play the ball with his bat.'), Document(page_content=''), Document(page_content='Either batsman is out by a “run out” if, while the ball is in play, his wicket is broken while he is out of his ground (that is, he does not have at least his bat in the crease). If the batsmen have passed each other, the one running for the wicket that is broken is out; if they have not crossed, the one running from that wicket is out.'), Document(page_content=''), Document(page_content='He is “stumped” if, in playing a stroke, he is outside the popping crease (out of his ground) and the wicket is broken by the wicketkeeper with ball in hand.'), Document(page_content=''), Document(page_content='The batsman is out “hit wicket” if he breaks his own wicket with his bat or any part of his person while playing the ball or setting off for a run.'), Document(page_content=''), Document(page_content='Either batsman is out for handling the ball if, with the hand not holding the bat, he willfully touches the ball while it is in play, unless with the consent of the opposing side.'), Document(page_content=''), Document(page_content='A batsman is out if he hits the ball, except in defense of his wicket, after it has been struck or stopped by any part of his person.'), Document(page_content=''), Document(page_content='Either batsman is out if he willfully obstructs the opposite side by word or action.'), Document(page_content=''), Document(page_content='An incoming batsman is “timed out” if he willfully takes more than two minutes to come in.'), Document(page_content=''), Document(page_content='Regardless of the means of dismissal, a batsman is not given out until the fielding side has appealed to an umpire and that umpire has declared the player out. Thus, when a play occurs in which the batsman could be out, a fielder will appeal to the umpire with the phrase “How was that?” (pronounced “Howzat?”). Only then will the umpire rule on the play. (If a player knows himself to have been out, however, he can declare himself out.) No matter how a player was dismissed, even if by leg before wicket or timed out, the vernacular of cricket is such that it is said that the batting side has “lost a wicket.”'), Document(page_content=''), Document(page_content='Strategy and technique'), Document(page_content='The disposition of the field will vary widely according to the technique of the bowler or of the batsman, the condition of the pitch, the state of the game, and the tactics determined by the captain. He may place his fieldsmen as he thinks best, and he may alter their positions, if he wishes, after each ball. There are no foul lines in cricket, so a hit in any direction is a fair ball. The objectives of the captain of the fielding side are: (1) to place his men in positions where the batsman may give a catch, i.e., hit a drive or a fly ball to a fielder and (2) to save runs, i.e., to block the path of the ball from the batsman’s scoring strokes (intercept or trap grounders). The tactical possibilities for a captain in directing his bowlers and fieldsmen and the batsmen are manifold and constitute one of the attractions of the game. In one-day cricket, however, there are some restrictions on the placement of fielders.'), Document(page_content=''), Document(page_content='As there are 11 players on a team and 2 of them must be the bowler and wicketkeeper, only 9 other positions can be occupied at any one time. The field is spoken of as being divided lengthwise into off and on, or leg, sides in relation to the batsmen’s stance, depending upon whether he bats right- or left-handed; the off side is the side facing the batsman, and the on, or leg, side is the side behind him as he stands to receive the ball. The fieldsmen will reposition themselves at the end of each over and will adjust the field for a left- or right-handed batsman.'), Document(page_content=''), Document(page_content='To sum up, the objective of the bowler is primarily to get the batsman out and only secondarily to prevent him from getting runs, though these objectives have tended to become reversed in limited-overs cricket. The objective of the batsman is to protect his wicket first and then to make runs, for only runs can win a match. The objective of each fielder is, first, to dismiss the batsmen, and, second, to prevent the striker from making runs.'), Document(page_content=''), Document(page_content='Bowling'), Document(page_content='Bowling can be right- or left-arm. For a fair delivery, the ball must be propelled, usually overhand, without bending the elbow. The bowler may run any desired number of paces as a part of his delivery (with the restriction, of course, that he not cross the popping crease). The ball generally hits the ground (the pitch) before reaching the batsman, although it need not. The first requisite of a good bowler is command of length—i.e., the ability to pitch (bounce) the ball on a desired spot, usually at or slightly in front of the batsman’s feet. The location varies with the pace of the bowler, the state of the pitch, and the reach and technique of the batsman. The second requisite is command of direction. On this foundation a bowler may elaborate with variations—finger spin (in which the ball rotates on its axis as it moves towards the batsman), swerve (which describes a ball that curves towards or away from the batsman once it has bounced on the pitch), alteration of pace (the speed of the ball)—that lend deceptiveness and uncertainty as to exactly where and how it will pitch. A good-length ball is one that causes the batsman to be uncertain whether to move forward to play his stroke or to move back. A half volley is a ball pitched so far up to the batsman that he can drive it fractionally after it has hit the ground without having to move forward. A yorker is a ball pitched on or inside the popping crease. A full pitch is a ball that the batsmen can reach before it hits the ground. A long hop is a ball short of good length.'), Document(page_content=''), Document(page_content='The primary purpose of the spin is to bring the ball up from the pitch at an angle that is difficult for the batsman to anticipate. The two swerves (curves) are the “inswinger,” which moves in the air from off to leg (into the batsman), and the “away swinger,” or “outswinger,” which swerves from leg to off (away from the batsman). A “googly” (coined by cricketer B.J.T. Bosanquet on the 1903–04 MCC tour) is a ball bowled with fingerspin that breaks unexpectedly in the opposite direction from that anticipated by the batsman given the motion of the bowler. A more recent variation in bowling is known as reverse swing. This delivery was pioneered by Pakistani players, particularly by bowlers Wasim Akram and Waqar Younnus. If a bowler is able to deliver at speeds of greater than 85 mph (135 kph), he can achieve reverse swing, meaning that without altering the grip on the ball or the motion of delivery, the bowler can cause the ball to swing (curve) in either direction. This makes it difficult for the batsman to gauge the direction in which the ball will move, as nothing about the bowler’s motion is different between the swing and the reverse swing delivery. Bowlers worldwide now employ this delivery, especially at the end overs as the batsmen look to dominate the bowler. If a bowler does not have the pace (speed) to deliver the reverse swing, another way to cause the ball to move in that fashion is to tamper with the surface of the ball (by scratching or scuffing it). Charges of ball tampering increased dramatically in the 1990s.'), Document(page_content=''), Document(page_content='Batting'), Document(page_content='A batsman may hit right-handed or left-handed. Good batting is based on a straight (i.e., vertical) bat with its full face presented to the ball, although a cross (i.e., horizontal) bat can be used effectively to deal with short bowling. The chief strokes are: forward stroke, in which the batsman advances his front leg to the pitch (direction) of the ball and plays it in front of the wicket (if played with aggressive intent, this stroke becomes the drive); back stroke, in which the batsman moves his rear leg back before playing the ball; leg glance (or glide), in which the ball is deflected behind the wicket on the leg side; cut, in which the batsman hits a ball on the uprise (after it has hit the ground on the off side), square with or behind the wicket; and pull or hook, in which the batsman hits a ball on the uprise through the leg side.'), Document(page_content=''), Document(page_content='Fielding'), Document(page_content='The ideal fieldsman is a fast runner with quick reactions and the ability to throw quickly and accurately. He should be able to anticipate the batsman’s strokes, to move quickly to cut off the ball in its path, and to judge the flight of the ball in the air to make a safe catch.'), Document(page_content=''), Document(page_content='Wicketkeeping'), Document(page_content='The wicketkeeper is a key member of the fielding side. He takes position behind the striker’s wicket, 10 to 20 yards back for the fast bowlers or directly behind for those of slower pace. He must concentrate on every ball, being ready to stop a ball that passes the wicket, to stump a batsman if he leaves his ground, or to receive a ball returned to him by a fielder.')]\n"
          ]
        }
      ],
      "source": [
        "print(RAW_KNOWLEDGE_BASE)"
      ]
    },
    {
      "cell_type": "code",
      "execution_count": null,
      "metadata": {
        "id": "c0RMU6U5lfoL"
      },
      "outputs": [],
      "source": [
        "from langchain.text_splitter import RecursiveCharacterTextSplitter\n",
        "MARKDOWN_SEPARATORS = [\n",
        "    \"\\n#{1,6} \" ,\n",
        "    \"```\\n\" ,\n",
        "    \"\\n\\\\*\\\\*\\\\*+\\n\" ,\n",
        "    \"\\n---+\\n\" ,\n",
        "    \"\\n___+\\n\" ,\n",
        "    \"\\n\\n\",\n",
        "    \"\\n\",\n",
        "    \" \",\n",
        "    \"\",\n",
        "]\n",
        "text_splitter= RecursiveCharacterTextSplitter(\n",
        "    chunk_size=1000,\n",
        "    chunk_overlap=100,\n",
        "    add_start_index=True,\n",
        "    strip_whitespace=True,\n",
        "    separators=MARKDOWN_SEPARATORS,\n",
        ")\n",
        "docs_processed = []\n",
        "for doc in RAW_KNOWLEDGE_BASE:\n",
        "    docs_processed += text_splitter.split_documents([doc])"
      ]
    },
    {
      "cell_type": "code",
      "execution_count": null,
      "metadata": {
        "colab": {
          "base_uri": "https://localhost:8080/"
        },
        "id": "rNJjiCaElhQy",
        "outputId": "717f9f75-a94d-4e07-a231-143d84037030"
      },
      "outputs": [
        {
          "name": "stdout",
          "output_type": "stream",
          "text": [
            "[Document(page_content='\\ufeffCricket, England’s national summer sport, which is now played throughout the world, particularly in Australia, India, Pakistan, the West Indies, and the British Isles.', metadata={'start_index': 0}), Document(page_content='Cricket field:', metadata={'start_index': 0}), Document(page_content='Location of wickets and principal fielding positions on a cricket field.', metadata={'start_index': 0}), Document(page_content='Cricket is played with a bat and ball and involves two competing sides (teams) of 11 players. The field is oval with a rectangular area in the middle, known as the pitch, that is 22 yards (20.12 metres) by 10 feet (3.04 metres) wide. Two sets of three sticks, called wickets, are set in the ground at each end of the pitch. Across the top of each wicket lie horizontal pieces called bails. The sides take turns at batting and bowling (pitching); each turn is called an “innings” (always plural). Sides have one or two innings each, depending on the prearranged duration of the match, the object being to score the most runs. The bowlers, delivering the ball with a straight arm, try to break (hit) the wicket with the ball so that the bails fall. This is one of several ways that the batsman is dismissed, or put out. A bowler delivers six balls at one wicket (thus completing an “over”), then a different player from his side bowls six balls to the opposite wicket. The batting side defends its', metadata={'start_index': 0}), Document(page_content='different player from his side bowls six balls to the opposite wicket. The batting side defends its wicket.', metadata={'start_index': 896}), Document(page_content='There are two batsman up at a time, and the batsman being bowled to (the striker) tries to hit the ball away from the wicket. A hit may be defensive or offensive. A defensive hit may protect the wicket but leave the batsmen no time to run to the opposite wicket. In that case the batsmen need not run, and play will resume with another bowl. If the batsman can make an offensive hit, he and the second batsman (the nonstriker) at the other wicket change places. Each time both batsmen can reach the opposite wicket, one run is scored. Providing they have enough time without being caught out and dismissed, the batsmen may continue to cross back and forth between the wickets, earning an additional run for each time both reach the opposite side. There is an outside boundary around the cricket field. A ball hit to or beyond the boundary scores four points if it hits the ground and then reaches the boundary, six points if it reaches the boundary from the air (a fly ball). The team with the', metadata={'start_index': 0}), Document(page_content='the boundary, six points if it reaches the boundary from the air (a fly ball). The team with the highest number of runs wins a match. Should both teams be unable to complete their number of innings before the time allotted, the match is declared a draw. Scores in the hundreds are common in cricket.', metadata={'start_index': 897}), Document(page_content='Matches in cricket can range from informal weekend afternoon encounters on village greens to top-level international contests spread over five days in Test matches and played by leading professional players in grand stadiums.', metadata={'start_index': 0}), Document(page_content='Origin:', metadata={'start_index': 0}), Document(page_content='Cricket is believed to have begun possibly as early as the 13th century as a game in which country boys bowled at a tree stump or at the hurdle gate into a sheep pen. This gate consisted of two uprights and a crossbar resting on the slotted tops; the crossbar was called a bail and the entire gate a wicket. The fact that the bail could be dislodged when the wicket was struck made this preferable to the stump, which name was later applied to the hurdle uprights. Early manuscripts differ about the size of the wicket, which acquired a third stump in the 1770s, but by 1706 the pitch—the area between the wickets—was 22 yards long.', metadata={'start_index': 0}), Document(page_content='The ball, once presumably a stone, has remained much the same since the 17th century. Its modern weight of between 5.5 and 5.75 ounces (156 and 163 grams) was established in 1774.', metadata={'start_index': 0}), Document(page_content='The primitive bat was no doubt a shaped branch of a tree, resembling a modern hockey stick but considerably longer and heavier. The change to a straight bat was made to defend against length bowling, which had evolved with cricketers in Hambledon, a small village in southern England. The bat was shortened in the handle and straightened and broadened in the blade, which led to forward play, driving, and cutting. As bowling technique was not very advanced during this period, batting dominated bowling through the 18th century.', metadata={'start_index': 0}), Document(page_content='The early years:', metadata={'start_index': 0}), Document(page_content='The earliest reference to an 11-a-side match, played in Sussex for a stake of 50 guineas, dates from 1697. In 1709 Kent met Surrey in the first recorded intercounty match at Dartford, and it is probable that about this time a code of laws (rules) existed for the conduct of the game, although the earliest known version of such rules is dated 1744. Sources suggest that cricket was limited to the southern counties of England during the early 18th century, but its popularity grew and eventually spread to London, notably to the Artillery Ground, Finsbury, which saw a famous match between Kent and All-England in 1744. Heavy betting and disorderly crowds were common at matches.', metadata={'start_index': 0}), Document(page_content='The aforementioned Hambledon Club, playing in Hampshire on Broadhalfpenny Down, was the predominant cricket force in the second half of the 18th century before the rise of the Marylebone Cricket Club (MCC) in London. Formed from a cricket club that played at White Conduit Fields, the club moved to Lord’s Cricket Ground in St. Marylebone borough in 1787 and became the MCC and in the following year published its first revised code of laws. Lord’s, which was named after its founder, Thomas Lord, has had three locations over its history. Moving to the current ground in St. John’s Wood in 1814, Lord’s became the headquarters of world cricket.', metadata={'start_index': 0}), Document(page_content='In 1836 the first match of North counties versus South counties was played, providing clear evidence of the spread of cricket. In 1846 the All-England XI, founded by William Clarke of Nottingham, began touring the country, and from 1852, when some of the leading professionals (including John Wisden, who later compiled the first of the famous Wisden almanacs on cricketing) seceded to form the United All-England XI, these two teams monopolized the best cricket talent until the rise of county cricket. They supplied the players for the first English touring team overseas in 1859.', metadata={'start_index': 0}), Document(page_content='Technical development:', metadata={'start_index': 0}), Document(page_content='Until early in the 19th century all bowling was underhand, and most bowlers favoured the high-tossed lob. Next came “the round-arm revolution,” in which many bowlers began raising the point at which they released the ball. Controversy raged furiously, and in 1835 the MCC rephrased the law to allow the hand to be raised as high as the shoulder. The new style led to a great increase in pace, or bowling speed. Gradually bowlers raised the hand higher and higher in defiance of the law. Matters were brought to a head in 1862 when an England team playing against Surrey left the field at London’s Kennington Oval in protest over a “no ball” call (i.e., an umpire’s decision that the bowler has thrown an illegal pitch). The argument centred on whether the bowler should be allowed to raise his arm above the shoulder. As a result of this controversy, the bowler was in 1864 officially accorded liberty to bowl overhand (but not to cock and straighten the arm). This change dramatically altered the', metadata={'start_index': 0}), Document(page_content='to bowl overhand (but not to cock and straighten the arm). This change dramatically altered the game, making it yet more difficult for a batsman to judge the ball. Already a bowler was allowed to take a running start from any direction and for any distance. Once the bowler was allowed to release overhand, the ball could then reach speeds above 90 mph (145 km/hr). Though this is not as fast as the pitching speed in baseball, cricket has an additional twist in that the ball is usually delivered so as to bounce on the pitch (field) before the batsman can hit it. Thus, the ball may curve to the right or the left, bounce low or high, or spin toward or away from the batsman.', metadata={'start_index': 902}), Document(page_content='Batsmen learned to protect themselves with pads and batting gloves, and a cane handle increased the resilience of the bat. Only the best batsmen, however, could cope with fast bowling, because the poor condition of most pitches made it yet more difficult for a batsman to predict the motion of the ball. As the grounds improved, however, batsmen grew accustomed to the new bowling style and went on the offensive. Other new bowling styles were also discovered, causing batsmen to adjust their technique further.', metadata={'start_index': 0}), Document(page_content='W.G. Grace (right), batting in an 1890s cricket match.', metadata={'start_index': 0}), Document(page_content='In the early 20th century so many runs were being scored that debate ensued on reforming the “leg-before-wicket” law, which had been introduced in the 1774 laws to prohibit a batsman from using his body to prevent the ball from hitting his wicket. But the heavy scores were actually due to the performances of several outstanding batsmen, such as W.G. Grace, Sir John Berry Hobbs, and K.S. Ranjitsinhji (later the maharaja of Nawanagar). This was cricket’s golden age.', metadata={'start_index': 0}), Document(page_content='In the 20th century there was a series of attempts to aid the bowler and quicken the tempo of the game. Nevertheless, the game by the mid-20th century was characterized not by overwhelming offense but by defensive play on both sides and by a slow pace. In an attempt to shore up a declining fan base, one-day, or limited-overs, cricket was introduced. One-day cricket had first been played internationally when, after a Test match was rained out for the first days, on the last scheduled day of play a limited-overs match was held in order to give the fans some game to watch. The response was enthusiastic, and one-day cricket came into being. In this version of cricket the limited number of overs (usually 50 per side) leads to a faster paced though much-altered game. In one-day cricket there are some restrictions on placement of fielders. This led to new batting styles, such as the paddle shot (wherein the ball is hit behind the wicket because there are usually no fielders there) and the', metadata={'start_index': 0}), Document(page_content='(wherein the ball is hit behind the wicket because there are usually no fielders there) and the lofted shot (where the batsman tries to hit the ball past the fielders and over their heads). Twenty20 (T20), a style of one-day cricket consisting of 20 overs per side, debuted in 2003 and quickly became an international sensation. The first Twenty20 world championship was held in 2007, and one-day cricket, particularly Twenty20, became more popular than Test matches worldwide, although Test cricket retained a large following in England. The pace of Test matches increased dramatically in the late 20th century with the introduction of new bowling strategies.', metadata={'start_index': 901}), Document(page_content='Organization of sport and types of competition:', metadata={'start_index': 0}), Document(page_content='County and university cricket:', metadata={'start_index': 0}), Document(page_content='Some of the earliest organized cricket matches were between amateur and professional players. From 1806 (annually from 1819) to 1962, the Gentlemen-versus-Players match pitted the best amateurs against the best professionals. The series was ended in 1962 when the MCC and the counties abandoned the distinction between amateurs and professionals. Other early cricket matches took place between British universities. The Oxford-versus-Cambridge match, for example, has been played mainly at Lord’s since 1827 and became a high point of the summer season in London.', metadata={'start_index': 0}), Document(page_content='University cricket was a kind of nursery for county cricket—i.e., matches between the various counties of England. Although the press acclaimed a “champion county” (Sussex) as early as 1827, qualification rules for county cricket were not laid down until 1873, and it was only in 1890 that the format of the county championship was formalized by the counties themselves. Gloucestershire dominated the 1870s, thanks to W.G. Grace and his brothers E.M. and G.F. Grace. From the 1880s to World War I, Nottinghamshire, Surrey, Yorkshire, Lancashire, Kent, and Middlesex constituted the Big Six that dominated county cricket. After World War I the northern counties, led by Yorkshire and Lancashire, largely professional teams, were the leaders. Surrey, with seven successive championships, dominated in the 1950s and Yorkshire in the 1960s, followed by Kent and Middlesex in the 1970s. The 1980s were dominated by Middlesex, Worcestershire, Essex, and Nottinghamshire. Other counties in first-class', metadata={'start_index': 0}), Document(page_content='dominated by Middlesex, Worcestershire, Essex, and Nottinghamshire. Other counties in first-class county cricket are Leicestershire, Somerset, Hampshire, Durham, Derbyshire, Warwickshire, Sussex, Northamptonshire, and Glamorgan.', metadata={'start_index': 897}), Document(page_content='After a postwar boom, slow play and lower numbers of runs characterized the 1950s, and this defensive nature of county cricket led to progressively decreased attendance. In the 1960s the MCC and the counties introduced a one-day knockout competition—called the Gillette Cup (1963–1980), the NatWest Bank Trophy (1981–2000), the C&G Trophy (2000–06), and the Friends Provident Trophy (2006–09)—and a separate Sunday afternoon league (the two competitions were merged in 2010 as the Clydesdale Bank 40), which revived public interest, although most counties remained dependent financially on proceeds from football pools and money received from Test matches and broadcasting fees. The immediate registration of overseas players was permitted, and each county, as of the early 1980s, was allowed one such player, who could, however, still play for his national team. The change worked well for the counties, and it also strengthened the national teams for whom those players appeared. In county cricket,', metadata={'start_index': 0}), Document(page_content='and it also strengthened the national teams for whom those players appeared. In county cricket, bonus points were created to encourage batsmen and bowlers to play less defensively, and from 1988, to help the development of young batsmen and spin bowlers, four-day games increasingly replaced the three-day format. The longer game gives batsmen more time to build an innings and relieves them of the pressure to score runs quickly. Spin bowlers benefit from the longer game because the pitch wears as the game progresses and permits greater spin.', metadata={'start_index': 905}), Document(page_content='The Cricket Council and the ECB:', metadata={'start_index': 0}), Document(page_content='A reorganization of English cricket took place in 1969, resulting in the end of the MCC’s long reign as the controlling body of the game, though the organization still retains responsibility for the laws. With the establishment of the Sports Council (a government agency charged with control of sports in Great Britain) and with the possibility of obtaining government aid for cricket, the MCC was asked to create a governing body for the game along the lines generally accepted by other sports in Great Britain. The Cricket Council, comprising the Test and County Cricket Board (TCCB), the National Cricket Association (NCA), and the MCC, was the result of these efforts. The TCCB, which amalgamated the Advisory County Cricket Committee and the Board of Control of Test Matches at Home, had responsibility for all first-class and minor-counties cricket in England and for overseas tours. The NCA consisted of representatives from clubs, schools, armed services cricket, umpires, and the Women’s', metadata={'start_index': 0}), Document(page_content='consisted of representatives from clubs, schools, armed services cricket, umpires, and the Women’s Cricket Association. In 1997 there was another reorganization, and the TCCB, the NCA, and the Cricket Council were all subsumed under the England and Wales Cricket Board (ECB).', metadata={'start_index': 898}), Document(page_content='International cricket', metadata={'start_index': 0}), Document(page_content=\"J.P. Morgan Media Centre, Lord's Cricket Ground\", metadata={'start_index': 0}), Document(page_content=\"J.P. Morgan Media Centre, Lord's Cricket Ground\", metadata={'start_index': 0}), Document(page_content=\"The futuristic J.P. Morgan Media Centre at Lord's Cricket Ground, London.\", metadata={'start_index': 0}), Document(page_content='International cricket in the early part of the 20th century was dominated by the original members of the Imperial Cricket Conference, England, Australia, and South Africa. Later renamed the International Cricket Conference and then the International Cricket Council, the ICC gradually took over more responsibility for the administration of the game and shifted its power base from west to east. When in 2005 the ICC moved its offices from Lord’s in London—home of the MCC, the game’s original rulers and still its lawmakers—to Dubai, the shift away from the old ways of governance was complete. The priorities of the game changed too. By the turn of the 21st century, only Australia and England still played Test cricket to full houses. Everywhere else, and particularly in India and Pakistan, crowds flocked to see limited-overs internationals. Test cricket became almost an afterthought. Although the power to change the laws of the game have remained with the MCC, the ICC developed its own Code', metadata={'start_index': 0}), Document(page_content='the power to change the laws of the game have remained with the MCC, the ICC developed its own Code of Conduct for players, officials, and administrators, which sets out disciplinary procedures and protects the spirit of the game. It also organized major international tournaments, including the one-day and Twenty20 World Cups and the Champions Trophy. In 2000 the ICC set up the Anti-Corruption Unit (renamed the Anti-Corruption Unit and Security Unit in 2003) to combat the growing threat of illegal gambling and match fixing. At the beginning of the 2010s, the ICC had 10 full members and dozens of associate and affiliate members. By the end of 2023, it had 12 full members and 94 associate members.', metadata={'start_index': 900}), Document(page_content='Australia', metadata={'start_index': 0}), Document(page_content=\"D.M. Jones, batsman for Australia's team in a cricket Test match, placing the ball to the leg side against England's team.\", metadata={'start_index': 0}), Document(page_content='One of the founding members of the ICC, Australia remains one of its most powerful countries both on and off the field. The history of cricket in Australia dates to 1803 when the game was introduced by the crew of a British ship. The first intercolonial match took place in 1851 between Victoria and Tasmania, and by the end of the 19th century teams from England were touring Australia regularly. The first official Test match was played in Melbourne in 1877 by Australia and England, beginning the oldest rivalry in international cricket, a series that became known as The Ashes (see Test Matches below).', metadata={'start_index': 0}), Document(page_content='Cricket is played throughout Australia, and matches are ferociously competitive at every level. All the great Australian players from Sir Don Bradman to Shane Warne developed their skills in club cricket before graduating to the state and national teams, and the Australian style of cricket is marked by aggressiveness with bat, ball, and, often, voice in an attempt to intimidate opponents. Through the 20th century, Australia produced a series of outstanding teams, and the country dominated international cricket into the new century, winning three successive one-day World Cups (1999–2007) and twice recording runs of 16 consecutive Test victories (1999–2001 and 2005–08). In 2005 England’s Test victory over Australia, the first since 1987, was celebrated with an open-top bus ride through the city of London. Australia also won the 2015 and 2023 one-day World Cups.', metadata={'start_index': 0}), Document(page_content='Bangladesh', metadata={'start_index': 0}), Document(page_content='In June 2000 Bangladesh became the 10th country to be accorded full Test status. It played its first Test match in November of that year, against India in Dhaka. Known as the Tigers, the Bangladeshi team struggled to perform at the highest level, winning only three of its first 68 Tests. However, Bangladesh has defeated the nine countries that preceded it to Test status in one-day matches, a feat completed with a victory over England in Bristol in 2010. Bangladesh’s first appearance in an international tournament had come in England in the ICC Trophy competition for associate members in 1979. In 1997 Bangladesh won the trophy and qualified for the 1999 World Cup, beating Pakistan in the group stages. A domestic first-class tournament between six regional teams was established in 2000–01. Since Bangladesh gained Test status, cricket arguably has become the most popular sport in the country.', metadata={'start_index': 0}), Document(page_content='Assorted sports balls including a basketball, football, soccer ball, tennis ball, baseball and others.', metadata={'start_index': 0}), Document(page_content='American Sports Nicknames', metadata={'start_index': 0}), Document(page_content='Cricket is played in every corner of India, on city streets, in village fields, and on maidans—open playing fields, the largest of which (such as the Azad, Cross, and Oval maidans in South Mumbai) can host dozens of overlapping matches. Historically, Indian cricketers have displayed a good eye and strong wrists, and Indian batsmen, most notably Sunil Gavaskar, Sachin Tendulkar, and Virat Kohli, have been some of the most productive and stylish in the history of cricket. The dry flat pitches of the subcontinent have also traditionally produced high-class spin bowlers.', metadata={'start_index': 0}), Document(page_content='The origins of the game in India date to the 18th century. A touring team led by the English cricketer Lord Hawke played a match against the “All India” team in January 1893. India played its first Test in 1932 and waited 20 years for its first Test victory, against England in Madras (now Chennai). The game developed so fast in India, however, that by the end of the 20th century India was one of the world’s foremost cricketing countries. With the growth of the Indian Premier League in the early 21st century, it became the undisputed home of Twenty20 cricket and the financial hub of the international game, though the popularity of Test cricket has declined dramatically in India. India’s prominence in one-day cricket was further confirmed when it won the Cricket World Cup in 2011.', metadata={'start_index': 0}), Document(page_content='New Zealand', metadata={'start_index': 0}), Document(page_content='2015 Cricket World Cup', metadata={'start_index': 0}), Document(page_content='2015 Cricket World Cup', metadata={'start_index': 0}), Document(page_content=\"New Zealand's Ross Taylor batting a ball as South African wicketkeeper Quinton De Kock (right) watches during a Cricket World Cup semifinal in Auckland, New Zealand, March 24, 2015.\", metadata={'start_index': 0}), Document(page_content='Cricket has always taken second place to rugby in the sports priorities of New Zealanders, but, as in Australia, the game has a strong national structure in New Zealand. The long history of domestic cricket in the country is often dated from the first representative interprovincial match, between Auckland and Wellington, in 1860, though there is evidence that unofficial matches between provinces were played in New Zealand decades earlier. The NZ Cricket Council was formed in 1894 and was admitted to full membership of the ICC in 1926. With only a small base of players on which to draw, New Zealand has always struggled to compete with England and Australia in Test cricket. As in most cricketing countries, the one-day game has proved more popular in New Zealand. In Richard Hadlee, who was knighted in 1990, the country produced one of the greatest cricketers of any era.', metadata={'start_index': 0}), Document(page_content='Pakistan', metadata={'start_index': 0}), Document(page_content='The development of cricket in Pakistan has been chaotic, quixotic, and exotic in roughly equal measure. Under the leadership of Imran Khan, Pakistan won the 1992 World Cup, but often its cricket was blighted by political interference and scandal. A low point was reached in 2010: To begin with, the national team was in virtual exile, unable to persuade other countries to play in Pakistan for fear of terrorist attacks in the wake of an assault in Lahore on the visiting Sri Lankan team bus in March 2009 that left six policemen dead and several players injured. Moreover, three members of the Pakistani team touring England were involved in allegations of “spot fixing”—that is, fixing the results of certain bowls in return for money—and were banned by the ICC. Huge profits could be made in illegal betting markets in Asia by predicting the results of individual bowls. Only a few years earlier several Pakistan players also had been banned as a result of investigations over match fixing. Yet', metadata={'start_index': 0}), Document(page_content='several Pakistan players also had been banned as a result of investigations over match fixing. Yet Pakistan has also produced a host of talented cricketers such as Khan, Wasim Akram, Abdul Qadir, and Inzamam-ul-Haq and has proved itself adept at Twenty20 cricket, winning the T20 World Cup in 2009.', metadata={'start_index': 899}), Document(page_content='South Africa', metadata={'start_index': 0}), Document(page_content='South Africa played its first Test, against England in Port Elizabeth, as early as in 1889. Cricket has been at the heart of the country’s sporting culture ever since. When South Africa was banned from the ICC from 1970 to 1991 because of its apartheid policies, cricket administrators worked quietly to integrate nonwhite players into the system, which was based largely on traditional all-white schools and state teams. When apartheid was abolished, cricket was far more prepared to cope with the social and political changes than was rugby union. Makhaya Ntini, a world-class fast bowler, who made his international debut for South Africa in 1998 and played in more than 100 Tests, served as a role model for the new generation of Black cricketers. On the other hand, in 2000 Hansie Cronje, the captain of South Africa, was banned for match fixing in a scandal that brought into question the integrity of South African cricket. It was not until 2003, when South Africa hosted a successful World', metadata={'start_index': 0}), Document(page_content='of South African cricket. It was not until 2003, when South Africa hosted a successful World Cup, that the rehabilitation of country’s cricketing reputation was complete. South Africa has always been a great exporter of cricketers, mainly to England. Allan Lamb and Robin Smith were prominent members of the England team in the 1980s and ’90s; Kevin Pietersen and Jonathan Trott were mainstays of the Ashes-winning side of 2010.', metadata={'start_index': 905}), Document(page_content='Sri Lanka', metadata={'start_index': 0}), Document(page_content='Even before Test status was awarded to Sri Lanka in 1981, the island country was a popular destination for touring teams, particularly for English teams on the way to Australia by boat. Given the disadvantages of its relatively small population and of the civil war that disrupted life on the island for three decades, Sri Lanka developed into a top cricketing country with surprising speed. In 1996 it won the World Cup, beating Australia in the final by playing aggressive, innovative cricket under the inspired leadership of Arjuna Ranatunga. The victory instilled belief in a new generation of players that included Sanath Jayasuriya; Mahela Jayawardene, an elegant and aggressive batsmen; and Muttiah Muralitharan, who in 2010 became the first bowler to take 800 Test wickets. The Indian Ocean tsunami of 2004 devastated the cricket-playing regions of southern Sri Lanka, including the Test match ground at Galle, and took the lives of many promising young players. Nonetheless, Sri Lanka', metadata={'start_index': 0}), Document(page_content='match ground at Galle, and took the lives of many promising young players. Nonetheless, Sri Lanka recovered to reach the World Cup final again in 2007. Calamity struck again in 2009, when the Sri Lankan team’s bus was attacked by terrorists on the way to the ground for the second Test against Pakistan in Lahore.', metadata={'start_index': 896}), Document(page_content='West Indies', metadata={'start_index': 0}), Document(page_content='Cricket has been a unifying force in the Caribbean since the West Indies became the fourth Test-playing side in 1928. The islands have generally played other sports as independent countries, but British colonial influence contributed to the formation of a united regional team. For a time in the 1970s and ’80s, when the West Indian team featured a quartet of fast bowlers—led by Michael Holding, Malcolm Marshall, Andy Roberts, and Joel Garner—and batsmen of the destructive capacity of Sir Viv Richards and Clive Lloyd, the West Indies were virtually unbeatable. Blessed with an abundance of talented players and true pitches, Caribbean cricket has always been played with an unorthodox flourish, seen most clearly in the batsmanship of Sir Garfield Sobers, Richards, and Brian Lara.', metadata={'start_index': 0}), Document(page_content='In the 21st century cricket declined in popularity in the West Indies, a result of a lack of strong administrative leadership and because of the increasing appeal of potentially more lucrative sports such as athletics (track and field), football (soccer) and basketball. After playing in the finals of the first three World Cups (1975, 1979, and 1983) and winning the first two, the West Indian team failed—with the exception of 1996—to reach even the knockout stage of subsequent World Cups, including in 2007, as the host of the event.', metadata={'start_index': 0}), Document(page_content='Zimbabwe', metadata={'start_index': 0}), Document(page_content='Until Test status was granted to Zimbabwe in 1992, the country’s best cricketers, such as Colin Bland, played for South Africa. Indeed, the history of the cricket in the two countries has been inextricably linked. Long before the newly independent and renamed Zimbabwe became an associate member of the ICC in 1980, teams representing its Rhodesian forerunner states had participated in the Currie Cup, the South African domestic first-class tournament (first in 1904–05, then in the early 1930s, and again after World War II). Competing in its first World Cup in 1983, Zimbabwe surprised the world by beating Australia, yet Graeme Hick, arguably the country’s best batsman, left shortly thereafter to play for England.', metadata={'start_index': 0}), Document(page_content='Zimbabwean cricket in the early 21st century has been marked by chaotic administration and political interference. In 2004 Heath Streak was sacked as captain of the national team, precipitating a crisis from which Zimbabwe took years to emerge, including an exile from Test cricket that began in 2006 and ended in 2011. The country’s political volatility during this period had much to do with the situation. In the 2003 World Cup, for example, England forfeited its match in Zimbabwe, citing security concerns. During the same tournament, two Zimbabwe players, Andy Flower and Henry Olonga, wore black armbands to “mourn the death of democracy” in their country.', metadata={'start_index': 0}), Document(page_content='Test matches', metadata={'start_index': 0}), Document(page_content='The first Test match, played by two national teams, was between Australia and England in Melbourne in 1877, with Australia winning. When Australia again won at the Oval at Kennington, London, in 1882, the Sporting Times printed an obituary notice announcing that English cricket would be cremated and the ashes taken to Australia, thus creating the “play for the Ashes.” The Ashes, kept in an urn at Lord’s irrespective of which country is victorious, are supposed to be those of a bail burned on the England tour of Australia in 1882–83. For the rest of the 19th century, the two countries met almost yearly. With W.G. Grace, the greatest cricketer of Victorian England, on its side, England was often too strong for the Australians, though Australia had the greatest bowler of this era in F.R. Spofforth and the first of the great wicketkeepers in J.McC. Blackham.', metadata={'start_index': 0}), Document(page_content='In 1907 South Africa first played Test matches in England and also took on Australia, whose dominance between the two World Wars was symbolized by the prodigious run scoring of Sir Don Bradman. This period saw a notable growth in the number of Test match countries with the arrival of the West Indies in 1928, New Zealand in 1930, and India in 1932.', metadata={'start_index': 0}), Document(page_content='The visit of the English side to Australia in 1932–33 severely strained relations between the countries because of the use of “bodyline” bowling tactics, in which the ball was bowled close to or at the batsman. This scheme was devised by the English captain, D.R. Jardine, and involved fast short-pitched deliveries bowled to the batsman’s body so that the batter would be hit on the upper body or head or, alternatively, would be caught out by one of the fielders on the leg side (the side behind the striker when in a batting stance). The plan was devised to curb Bradman’s scoring, but it led to a large number of serious injuries on the Australian team. The practice was felt to be unsportsmanlike by the Australians, who protested vigorously. The series was played out (with England winning 3–1), but it created bitter feeling on the part of Australia for some time to come. Bodyline bowling tactics were banned soon after the series.', metadata={'start_index': 0}), Document(page_content='After World War II there were Test matches in England every summer, Australia being the most frequent visitor, and the Test ranks were increased by the addition of Pakistan in 1952. There was a steady escalation of tours between the Test-playing countries to the extent that, while the first 500 Test matches were spread over 84 years, the next 500 occupied only 23. Sri Lanka’s entry in 1982 as the eighth Test-playing country came during an era dominated by the West Indies, whose devastating attack was founded, for the first time in cricket history, on four fast bowlers. Zimbabwe was admitted as a Test country in 1992 and Bangladesh in 2000.', metadata={'start_index': 0}), Document(page_content='Australia: Cricket', metadata={'start_index': 0}), Document(page_content='One-day internationals—answering the complaint that Test matches went on too long—began in 1972. In 1975 the first World Cup was contested in England in a series of one-day matches of 60 overs a side (the number of overs was reduced to 50 in 1987). The event was a great success and continued at four-year intervals. It was held outside England, in India and Pakistan, for the first time in 1987.', metadata={'start_index': 0}), Document(page_content='Test cricket has faced a number of crises since the late 1960s. In one such case in 1969–70, a South African tour of England was canceled because of opposition to South African apartheid. Violence, damage, and disruption of play had been threatened. A further threat to Test cricket was posed by an Australian television network executive, Kerry Packer, who signed many of the world’s leading players for a series of private contests between 1977 and 1979. Reprisals were brought against the players but were overruled after court action in England. The players returned to the fold, but commercialism had taken hold of the game. In 1982 the agreement of 12 first-class English players to take part—in breach of official guidelines—in a commercially sponsored South African tour with fees of up to £50,000 per player led to the players’ being banned from Test cricket for three years. Cricketers from Sri Lanka and the West Indies also toured South Africa and received more stringent sanctions, and', metadata={'start_index': 0}), Document(page_content='Sri Lanka and the West Indies also toured South Africa and received more stringent sanctions, and the engagement of English professionals as players and coaches in South Africa threatened a serious division between the Test-playing countries that ended only with the repeal of apartheid.', metadata={'start_index': 901}), Document(page_content='Test cricket was again rocked by a scandal that began in 1999 regarding match fixing. While betting on matches had been common in England in the early days of cricket, many Test countries had banned such betting in the modern era. In India and Pakistan betting on cricket was legal, however, and cricketers playing international matches there reported being asked by bookmakers and betting syndicates to underperform in return for money. Members of the Australian, South African, Indian, and Pakistani national teams were all tainted by this scandal, several players were banned from cricket for life, and the integrity of the game was called into question.', metadata={'start_index': 0}), Document(page_content='21st-century developments:', metadata={'start_index': 0}), Document(page_content='The advent of Twenty20 cricket (T20) and the wild success of the IPL in the first decade of the 21st century led to a period of great innovation in the game. The new, truncated form of the game privileged batting, partly by restricting the placement of fielders and shortening the boundaries. To counter free-scoring batsmen with heavy bats, bowlers began to perfect a great variety of different balls (deliveries). Disguise became an essential part of the bowler’s armoury. Slow spin-bowling, which forces the batsman to generate “pace” (that is, to provide the bulk of the power to propel the batted ball, whereas fast bowling contributes more force to the batsman’s swing), proved a surprisingly effective weapon. Among the new shots that became commonplace for batsmen in T20 cricket was the reverse sweep, wherein a right-handed batsman, in mid-delivery, changes hands to swing at the ball like a left-hander (or a left-hander swings like a right-hander). Batters also began employing the scoop,', metadata={'start_index': 0}), Document(page_content='left-hander (or a left-hander swings like a right-hander). Batters also began employing the scoop, a shot played almost vertically over the wicketkeeper’s head. Test cricket also benefited from these new techniques and from the new era of creativity, not least from the introduction of the doosra, a delivery disguised to look like an off-spinner that actually turns away from the right-handed batsman like a leg-spinner. Developed by the Pakistan off-spinner Saqlain Mushtaq and taking its name from the Urdu expression meaning “the other one,” the ball was perfected by Muttiah Muralitharan of Sri Lanka,', metadata={'start_index': 902}), Document(page_content='Cricket also followed other sports in its use of video technology in making onfield decisions. Initially, from its first trial in 1992, only line decisions such as run outs were decided by referral to a third umpire off the field. But in 2008 a new referral system, in which players were allowed to refer any onfield decision to the third umpire, made its international debut in a series between India and Sri Lanka (it had been put on trial in English county cricket in 2007). Each side receives two referrals every innings (down from three when the system was first tried out). Referrals that result in the umpire changing an original decision are not counted against this total. The system was designed to eradicate an umpire’s innocent but obvious mistake and has been greeted with more enthusiasm by players than umpires.', metadata={'start_index': 0}), Document(page_content='Women’s cricket', metadata={'start_index': 0}), Document(page_content='Women first played cricket in England in the 18th century. In 1887 the first club, White Heather, was formed, and it survived to 1957. In 1890 two professional teams known collectively as the Original English Lady Cricketers were in action.', metadata={'start_index': 0}), Document(page_content='In 1926 the Women’s Cricket Association was founded, and in 1934–35 it sent a team to Australia and New Zealand. Australia paid a return visit in 1937, and, since World War II, tours have increased. The International Women’s Cricket Council was formed in 1958 by Australia, England, the Netherlands, New Zealand, and South Africa and later included India, Denmark, and several West Indian islands. A World Cup was instituted in 1973, two years ahead of men’s cricket, and England and Australia played in the first women’s matches at Lord’s in 1976.', metadata={'start_index': 0}), Document(page_content='In 2023 the Board of Control for Cricket in India (BCCI) inaugurated the Women’s Premier League (WPL). The 2023 WPL featured 5 teams and Mumbai Indians won the final against Delhi Capitals. The 2024 WPL will once again be between Mumbai Indians and Delhi Capitals.', metadata={'start_index': 0}), Document(page_content='Field of play, equipment, and dress:', metadata={'start_index': 0}), Document(page_content='Cricket grounds vary in size from great arenas, such as the main playing area at Lord’s in London (5.5 acres [2.2 hectares]) and the even larger Melbourne Cricket Ground, to village greens and small meadows. Level turf of fine texture is the ideal surface, but where this is unavailable any artificial covered surface—such as coir (fibre) matting or artificial turf on a firm base—may be used. The limits of the playing area are usually marked by a boundary line or fence.', metadata={'start_index': 0}), Document(page_content='A wicket consists of three stumps, or stakes, each 28 inches (71.1 cm) high and of equal thickness (about 1.25 inches in diameter), stuck into the ground and so spaced that the ball cannot pass between them. Two pieces of wood called bails, each 4.37 inches (11.1 cm) long, lie in grooves on the tops of the stumps. The bails do not extend beyond the stumps and do not project more than half an inch above them. The whole wicket is 9 inches (22.86 cm) in width. There are two of these wickets, which a batsman defends and a bowler attacks, and they are approximately in the centre of the ground, facing one another at each end of the pitch.', metadata={'start_index': 0}), Document(page_content='Lines of whitewash demarcate the creases at each wicket: the bowling crease is a line drawn through the base of the stumps and extending 4.33 feet (1.32 metres) on either side of the centre stump; the return crease is a line at each end of and at right angles to the bowling crease, extending behind the wicket; and the popping crease is a line parallel with the bowling crease and 4 feet in front of it. The bowling and return creases mark the area within which the bowler’s rear foot must be grounded in delivering the ball; the popping crease, which is 62 feet (18.9 metres) from the opposing bowling crease, demarks the batsman’s ground. When a batsman is running between wickets, the crease represents the area in which he is “safe” (in baseball parlance) and only a cricketer’s bat need be in the crease; thus a batsman will often place just the tip of the bat over the line of the crease and then begin to run for the opposite wicket.', metadata={'start_index': 0}), Document(page_content='cricket bat and ball', metadata={'start_index': 0}), Document(page_content='The blade of the paddle-shaped bat is made of willow and must not be broader than 4.25 inches (10.8 cm). The length of the bat, including the handle, must not exceed 38 inches (96.5 cm). The ball, which has a core of cork built up with string, was traditionally encased in polished red leather, although white is now frequently used, especially for night games. The halves of the ball are sewn together with a raised seam (the seam being like the equator on a globe, not like the curved seam of a baseball or tennis ball). Slightly smaller, harder, and heavier than a baseball, it must weigh between 5.5 and 5.75 ounces (156 and 163 grams) and measure between 8.8 and 9 inches (22.4 and 22.9 cm) in circumference. In the early days of cricket it was common to use the same ball for an entire match, which allowed for pitches with more swerve and movement as the match wore on. Even today a cricket ball may stay in play for an entire day of a match, and, as the ball gets more used, it is', metadata={'start_index': 0}), Document(page_content='cricket ball may stay in play for an entire day of a match, and, as the ball gets more used, it is progressively more difficult to hit.', metadata={'start_index': 890}), Document(page_content='Cricket attire has evolved with men’s fashion. In the 18th century cricketers wore tricorne hats, knee breeches, silk stockings, and shoes with buckles. More colourful dress was common on the field in the 18th century, and only in the late 19th century did the uniform long associated with cricket arrive: white flannel trousers with a white shirt and V-necked sweater, the sweater often trimmed with club colours. Players have worn a myriad of hat styles, including top hats and straw hats, but in the 1880s the coloured cap became the norm. White buckskin shoes also became popular for men in the 1880s, and cricketers then adopted the white shoes (known, however, as boots) that are traditionally worn with flannels. In a break with tradition, late 20th-century players began to wear brightly coloured clothing to differentiate between teams on the grounds. By the 21st century the predominant outfit for cricket was a loose-fitting polo shirt (either short- or long-sleeved) with matching', metadata={'start_index': 0}), Document(page_content='outfit for cricket was a loose-fitting polo shirt (either short- or long-sleeved) with matching trousers and spiked cleats for traction.', metadata={'start_index': 897}), Document(page_content='With the advent of fast bowling, cricketers adopted protective dress. The batsman wears white pads (leg guards), an abdominal protector, and batting gloves to protect the fingers; batsmen may also wear helmets and other protection. The wicketkeeper also wears pads and reinforced gauntlets (the other fielders do not wear gloves).', metadata={'start_index': 0}), Document(page_content='Rules of the game', metadata={'start_index': 0}), Document(page_content='One player on each team acts as captain. There are two umpires—one standing behind the bowler’s wicket, the other at the position called square leg about 15 yards from the batsman’s popping crease (see the figure)—to control the game according to the laws; two scorers record its progress. The object of the game is for one side to score more runs than the other.', metadata={'start_index': 0}), Document(page_content='At the start of a match, the captain who wins the toss of a coin decides whether his own or the other side shall take first innings—i.e., proceed successively as batsmen, the first two as a pair together, to the wicket and try to make as many runs as possible against the bowling and fielding of their opponents. There are three methods by which an innings is completed: (1) when 10 batsmen have been dismissed (the remaining batsman, having no partner, is declared “not out”); (2) when the captain of the batting side declares his innings closed before all 10 men are out (a captain may decide to declare if his team has a large lead in runs and he fears that the innings will continue so long that the opposing team will not have time to get in their full innings and the game will therefore be a draw); or (3) in a match of one innings a side, when the allotted number of overs expires. Results are recorded by the margin of runs or, if the side batting last passes the other side’s total before', metadata={'start_index': 0}), Document(page_content='recorded by the margin of runs or, if the side batting last passes the other side’s total before all their batsmen have been dismissed, by the number of their wickets (i.e., batsmen still to be dismissed) outstanding.', metadata={'start_index': 902}), Document(page_content='Matches are decided either by the number of runs scored in one innings each (usually for one-day matches) or on the aggregate of runs made by each side in two innings. Test matches last five days (30 playing hours), other first-class matches from three to four days, and the bulk of club, school, and village matches one day.', metadata={'start_index': 0}), Document(page_content='The nonbatting side takes up positions in the field. One man is the bowler (similar to the pitcher in baseball), another is the wicketkeeper (similar to the catcher), and the remaining nine are positioned as the captain or the bowler directs (see the figure). The first batsman (the striker) guards his wicket by standing with at least one foot behind the popping crease. His partner (the nonstriker) waits behind the popping crease at the bowler’s end. The bowler tries to hit the batsman’s wicket or to dismiss him in other ways.', metadata={'start_index': 0}), Document(page_content='Runs', metadata={'start_index': 0}), Document(page_content='The batsman tries to keep the bowler from hitting the wicket, while also trying to hit the ball sufficiently hard to score a run, i.e., enable him to run to the other end of the pitch before any fieldsman can pick up the ball and throw it to either wicket to knock off the bails. If the wicket is broken, either by a thrown ball or by the wicketkeeper or bowler with ball in hand, before either batsman is in his ground, the batsman is dismissed. The striker does not have to run after he has hit the ball, nor does it count in any way if he misses the ball or if his body is struck by it. But if he gets a good hit and thinks he can score a run, he races for the opposite wicket and his partner runs toward him. When each has made good his ground by touching his bat beyond the popping crease at the opposite end, one run is recorded to the striker; if there is time, each will run back for a second or more runs, crossing again. If an even number of runs is scored, the striker will receive the', metadata={'start_index': 0}), Document(page_content='or more runs, crossing again. If an even number of runs is scored, the striker will receive the next ball; if an odd number, then the nonstriker will be at the wicket opposite the bowler and will face the next ball. Any runs thus made count to the batsman, otherwise they are extras. When a ball from a hit or any of the extras mentioned below goes as far as the boundary, the runners stop and four runs are scored. If the batsman hits the ball full pitch over the boundary (on the fly), he scores six runs.', metadata={'start_index': 901}), Document(page_content='Extras', metadata={'start_index': 0}), Document(page_content='Only runs scored from the bat count to the batsman, but to the side’s score may be added the following extras: (1) byes (when a ball from the bowler passes the wicket without being touched by the bat and the batsmen are able to make good a run); (2) leg byes (when in similar circumstances the ball has touched any part of the batsman’s body except his hand); (3) wides (when a ball passes out of reach of the striker); (4) no balls (improperly bowled balls; for a fair delivery the ball must be bowled, not thrown, the arm neither bent nor jerked, and in the delivery stride some part of the bowler’s front foot must be behind or covering the popping crease), off which a batsman cannot be out (except as noted under Methods of dismissal below) and which, apprised in time by the umpire’s cry of “no ball,” he may try to hit.', metadata={'start_index': 0}), Document(page_content='Overs', metadata={'start_index': 0}), Document(page_content='When a bowler has bowled six balls (occasionally, eight balls), not counting wides and no balls, he has completed an over. The batsmen remain where they are and a new over is begun by a different bowler at the opposite wicket, with a corresponding adjustment of the positions of the players in the field. If a bowler delivers a complete over without a run being scored from the bat (even though the opponents may have scored extras by means of byes or leg byes), he has achieved a maiden over. In one-day cricket, no bowler is allowed to bowl more than 10 overs in a 50-over match.', metadata={'start_index': 0}), Document(page_content='Methods of dismissal', metadata={'start_index': 0}), Document(page_content='It is important to remember that in cricket, unlike in baseball, a batsman need not hit the ball bowled at him to maintain his at bat. Further, should the batsman hit the ball and, in his judgment, be unable to reach the other wicket before a fieldsman can handle the ball, he may stay put at his wicket and no penalty occurs. The batsman’s primary task is to defend the wicket, not to get hits or score runs. That being said, there are 10 ways in which a batsman or striker can be dismissed (put out); they are listed from most common to least:', metadata={'start_index': 0}), Document(page_content='The batsman is “caught out” if a ball hit by the batsman is caught before it touches the ground.', metadata={'start_index': 0}), Document(page_content='He is “bowled out” if the bowler breaks the wicket, i.e., dislodges a bail with the ball, which includes when the batsman hits the ball into his own wicket.', metadata={'start_index': 0}), Document(page_content='The batsman is out “leg before wicket” (lbw) if he intercepts with any part of his person (except his hand) that is in line between wicket and wicket a ball that has not first touched his bat or his hand and that has or would have pitched (hit the ground) in a straight line between the wickets or on the off side provided the ball would have hit the wicket. The batsman may also be out lbw if he intercepts the ball outside the off-side stump having made no genuine attempt to play the ball with his bat.', metadata={'start_index': 0}), Document(page_content='Either batsman is out by a “run out” if, while the ball is in play, his wicket is broken while he is out of his ground (that is, he does not have at least his bat in the crease). If the batsmen have passed each other, the one running for the wicket that is broken is out; if they have not crossed, the one running from that wicket is out.', metadata={'start_index': 0}), Document(page_content='He is “stumped” if, in playing a stroke, he is outside the popping crease (out of his ground) and the wicket is broken by the wicketkeeper with ball in hand.', metadata={'start_index': 0}), Document(page_content='The batsman is out “hit wicket” if he breaks his own wicket with his bat or any part of his person while playing the ball or setting off for a run.', metadata={'start_index': 0}), Document(page_content='Either batsman is out for handling the ball if, with the hand not holding the bat, he willfully touches the ball while it is in play, unless with the consent of the opposing side.', metadata={'start_index': 0}), Document(page_content='A batsman is out if he hits the ball, except in defense of his wicket, after it has been struck or stopped by any part of his person.', metadata={'start_index': 0}), Document(page_content='Either batsman is out if he willfully obstructs the opposite side by word or action.', metadata={'start_index': 0}), Document(page_content='An incoming batsman is “timed out” if he willfully takes more than two minutes to come in.', metadata={'start_index': 0}), Document(page_content='Regardless of the means of dismissal, a batsman is not given out until the fielding side has appealed to an umpire and that umpire has declared the player out. Thus, when a play occurs in which the batsman could be out, a fielder will appeal to the umpire with the phrase “How was that?” (pronounced “Howzat?”). Only then will the umpire rule on the play. (If a player knows himself to have been out, however, he can declare himself out.) No matter how a player was dismissed, even if by leg before wicket or timed out, the vernacular of cricket is such that it is said that the batting side has “lost a wicket.”', metadata={'start_index': 0}), Document(page_content='Strategy and technique', metadata={'start_index': 0}), Document(page_content='The disposition of the field will vary widely according to the technique of the bowler or of the batsman, the condition of the pitch, the state of the game, and the tactics determined by the captain. He may place his fieldsmen as he thinks best, and he may alter their positions, if he wishes, after each ball. There are no foul lines in cricket, so a hit in any direction is a fair ball. The objectives of the captain of the fielding side are: (1) to place his men in positions where the batsman may give a catch, i.e., hit a drive or a fly ball to a fielder and (2) to save runs, i.e., to block the path of the ball from the batsman’s scoring strokes (intercept or trap grounders). The tactical possibilities for a captain in directing his bowlers and fieldsmen and the batsmen are manifold and constitute one of the attractions of the game. In one-day cricket, however, there are some restrictions on the placement of fielders.', metadata={'start_index': 0}), Document(page_content='As there are 11 players on a team and 2 of them must be the bowler and wicketkeeper, only 9 other positions can be occupied at any one time. The field is spoken of as being divided lengthwise into off and on, or leg, sides in relation to the batsmen’s stance, depending upon whether he bats right- or left-handed; the off side is the side facing the batsman, and the on, or leg, side is the side behind him as he stands to receive the ball. The fieldsmen will reposition themselves at the end of each over and will adjust the field for a left- or right-handed batsman.', metadata={'start_index': 0}), Document(page_content='To sum up, the objective of the bowler is primarily to get the batsman out and only secondarily to prevent him from getting runs, though these objectives have tended to become reversed in limited-overs cricket. The objective of the batsman is to protect his wicket first and then to make runs, for only runs can win a match. The objective of each fielder is, first, to dismiss the batsmen, and, second, to prevent the striker from making runs.', metadata={'start_index': 0}), Document(page_content='Bowling', metadata={'start_index': 0}), Document(page_content='Bowling can be right- or left-arm. For a fair delivery, the ball must be propelled, usually overhand, without bending the elbow. The bowler may run any desired number of paces as a part of his delivery (with the restriction, of course, that he not cross the popping crease). The ball generally hits the ground (the pitch) before reaching the batsman, although it need not. The first requisite of a good bowler is command of length—i.e., the ability to pitch (bounce) the ball on a desired spot, usually at or slightly in front of the batsman’s feet. The location varies with the pace of the bowler, the state of the pitch, and the reach and technique of the batsman. The second requisite is command of direction. On this foundation a bowler may elaborate with variations—finger spin (in which the ball rotates on its axis as it moves towards the batsman), swerve (which describes a ball that curves towards or away from the batsman once it has bounced on the pitch), alteration of pace (the speed of', metadata={'start_index': 0}), Document(page_content='or away from the batsman once it has bounced on the pitch), alteration of pace (the speed of the ball)—that lend deceptiveness and uncertainty as to exactly where and how it will pitch. A good-length ball is one that causes the batsman to be uncertain whether to move forward to play his stroke or to move back. A half volley is a ball pitched so far up to the batsman that he can drive it fractionally after it has hit the ground without having to move forward. A yorker is a ball pitched on or inside the popping crease. A full pitch is a ball that the batsmen can reach before it hits the ground. A long hop is a ball short of good length.', metadata={'start_index': 907}), Document(page_content='The primary purpose of the spin is to bring the ball up from the pitch at an angle that is difficult for the batsman to anticipate. The two swerves (curves) are the “inswinger,” which moves in the air from off to leg (into the batsman), and the “away swinger,” or “outswinger,” which swerves from leg to off (away from the batsman). A “googly” (coined by cricketer B.J.T. Bosanquet on the 1903–04 MCC tour) is a ball bowled with fingerspin that breaks unexpectedly in the opposite direction from that anticipated by the batsman given the motion of the bowler. A more recent variation in bowling is known as reverse swing. This delivery was pioneered by Pakistani players, particularly by bowlers Wasim Akram and Waqar Younnus. If a bowler is able to deliver at speeds of greater than 85 mph (135 kph), he can achieve reverse swing, meaning that without altering the grip on the ball or the motion of delivery, the bowler can cause the ball to swing (curve) in either direction. This makes it', metadata={'start_index': 0}), Document(page_content='of delivery, the bowler can cause the ball to swing (curve) in either direction. This makes it difficult for the batsman to gauge the direction in which the ball will move, as nothing about the bowler’s motion is different between the swing and the reverse swing delivery. Bowlers worldwide now employ this delivery, especially at the end overs as the batsmen look to dominate the bowler. If a bowler does not have the pace (speed) to deliver the reverse swing, another way to cause the ball to move in that fashion is to tamper with the surface of the ball (by scratching or scuffing it). Charges of ball tampering increased dramatically in the 1990s.', metadata={'start_index': 897}), Document(page_content='Batting', metadata={'start_index': 0}), Document(page_content='A batsman may hit right-handed or left-handed. Good batting is based on a straight (i.e., vertical) bat with its full face presented to the ball, although a cross (i.e., horizontal) bat can be used effectively to deal with short bowling. The chief strokes are: forward stroke, in which the batsman advances his front leg to the pitch (direction) of the ball and plays it in front of the wicket (if played with aggressive intent, this stroke becomes the drive); back stroke, in which the batsman moves his rear leg back before playing the ball; leg glance (or glide), in which the ball is deflected behind the wicket on the leg side; cut, in which the batsman hits a ball on the uprise (after it has hit the ground on the off side), square with or behind the wicket; and pull or hook, in which the batsman hits a ball on the uprise through the leg side.', metadata={'start_index': 0}), Document(page_content='Fielding', metadata={'start_index': 0}), Document(page_content='The ideal fieldsman is a fast runner with quick reactions and the ability to throw quickly and accurately. He should be able to anticipate the batsman’s strokes, to move quickly to cut off the ball in its path, and to judge the flight of the ball in the air to make a safe catch.', metadata={'start_index': 0}), Document(page_content='Wicketkeeping', metadata={'start_index': 0}), Document(page_content='The wicketkeeper is a key member of the fielding side. He takes position behind the striker’s wicket, 10 to 20 yards back for the fast bowlers or directly behind for those of slower pace. He must concentrate on every ball, being ready to stop a ball that passes the wicket, to stump a batsman if he leaves his ground, or to receive a ball returned to him by a fielder.', metadata={'start_index': 0})]\n"
          ]
        }
      ],
      "source": [
        "print(docs_processed)"
      ]
    },
    {
      "cell_type": "code",
      "execution_count": null,
      "metadata": {
        "colab": {
          "base_uri": "https://localhost:8080/"
        },
        "id": "sEMecv_kll4A",
        "outputId": "c62a8b0a-62fa-46ee-fd75-a0b86b98ca1f"
      },
      "outputs": [
        {
          "name": "stdout",
          "output_type": "stream",
          "text": [
            "139\n"
          ]
        }
      ],
      "source": [
        "print(len(docs_processed))"
      ]
    },
    {
      "cell_type": "code",
      "execution_count": null,
      "metadata": {
        "colab": {
          "background_save": true,
          "base_uri": "https://localhost:8080/"
        },
        "id": "v88gCbYLlsrr",
        "outputId": "f67f9b95-4d45-44a4-a7ea-c0e8e4891572"
      },
      "outputs": [
        {
          "name": "stdout",
          "output_type": "stream",
          "text": [
            "Collecting sentence_transformers\n",
            "  Downloading sentence_transformers-2.7.0-py3-none-any.whl (171 kB)\n",
            "\u001b[2K     \u001b[90m━━━━━━━━━━━━━━━━━━━━━━━━━━━━━━━━━━━━━━━━\u001b[0m \u001b[32m171.5/171.5 kB\u001b[0m \u001b[31m1.9 MB/s\u001b[0m eta \u001b[36m0:00:00\u001b[0m\n",
            "\u001b[?25hRequirement already satisfied: transformers<5.0.0,>=4.34.0 in /usr/local/lib/python3.10/dist-packages (from sentence_transformers) (4.40.0)\n",
            "Requirement already satisfied: tqdm in /usr/local/lib/python3.10/dist-packages (from sentence_transformers) (4.66.2)\n",
            "Requirement already satisfied: torch>=1.11.0 in /usr/local/lib/python3.10/dist-packages (from sentence_transformers) (2.2.1+cu121)\n",
            "Requirement already satisfied: numpy in /usr/local/lib/python3.10/dist-packages (from sentence_transformers) (1.25.2)\n",
            "Requirement already satisfied: scikit-learn in /usr/local/lib/python3.10/dist-packages (from sentence_transformers) (1.2.2)\n",
            "Requirement already satisfied: scipy in /usr/local/lib/python3.10/dist-packages (from sentence_transformers) (1.11.4)\n",
            "Requirement already satisfied: huggingface-hub>=0.15.1 in /usr/local/lib/python3.10/dist-packages (from sentence_transformers) (0.22.2)\n",
            "Requirement already satisfied: Pillow in /usr/local/lib/python3.10/dist-packages (from sentence_transformers) (9.4.0)\n",
            "Requirement already satisfied: filelock in /usr/local/lib/python3.10/dist-packages (from huggingface-hub>=0.15.1->sentence_transformers) (3.13.4)\n",
            "Requirement already satisfied: fsspec>=2023.5.0 in /usr/local/lib/python3.10/dist-packages (from huggingface-hub>=0.15.1->sentence_transformers) (2023.6.0)\n",
            "Requirement already satisfied: packaging>=20.9 in /usr/local/lib/python3.10/dist-packages (from huggingface-hub>=0.15.1->sentence_transformers) (23.2)\n",
            "Requirement already satisfied: pyyaml>=5.1 in /usr/local/lib/python3.10/dist-packages (from huggingface-hub>=0.15.1->sentence_transformers) (6.0.1)\n",
            "Requirement already satisfied: requests in /usr/local/lib/python3.10/dist-packages (from huggingface-hub>=0.15.1->sentence_transformers) (2.31.0)\n",
            "Requirement already satisfied: typing-extensions>=3.7.4.3 in /usr/local/lib/python3.10/dist-packages (from huggingface-hub>=0.15.1->sentence_transformers) (4.11.0)\n",
            "Requirement already satisfied: sympy in /usr/local/lib/python3.10/dist-packages (from torch>=1.11.0->sentence_transformers) (1.12)\n",
            "Requirement already satisfied: networkx in /usr/local/lib/python3.10/dist-packages (from torch>=1.11.0->sentence_transformers) (3.3)\n",
            "Requirement already satisfied: jinja2 in /usr/local/lib/python3.10/dist-packages (from torch>=1.11.0->sentence_transformers) (3.1.3)\n",
            "Collecting nvidia-cuda-nvrtc-cu12==12.1.105 (from torch>=1.11.0->sentence_transformers)\n",
            "  Using cached nvidia_cuda_nvrtc_cu12-12.1.105-py3-none-manylinux1_x86_64.whl (23.7 MB)\n",
            "Collecting nvidia-cuda-runtime-cu12==12.1.105 (from torch>=1.11.0->sentence_transformers)\n",
            "  Using cached nvidia_cuda_runtime_cu12-12.1.105-py3-none-manylinux1_x86_64.whl (823 kB)\n",
            "Collecting nvidia-cuda-cupti-cu12==12.1.105 (from torch>=1.11.0->sentence_transformers)\n",
            "  Using cached nvidia_cuda_cupti_cu12-12.1.105-py3-none-manylinux1_x86_64.whl (14.1 MB)\n",
            "Collecting nvidia-cudnn-cu12==8.9.2.26 (from torch>=1.11.0->sentence_transformers)\n",
            "  Using cached nvidia_cudnn_cu12-8.9.2.26-py3-none-manylinux1_x86_64.whl (731.7 MB)\n",
            "Collecting nvidia-cublas-cu12==12.1.3.1 (from torch>=1.11.0->sentence_transformers)\n",
            "  Using cached nvidia_cublas_cu12-12.1.3.1-py3-none-manylinux1_x86_64.whl (410.6 MB)\n",
            "Collecting nvidia-cufft-cu12==11.0.2.54 (from torch>=1.11.0->sentence_transformers)\n",
            "  Using cached nvidia_cufft_cu12-11.0.2.54-py3-none-manylinux1_x86_64.whl (121.6 MB)\n",
            "Collecting nvidia-curand-cu12==10.3.2.106 (from torch>=1.11.0->sentence_transformers)\n",
            "  Using cached nvidia_curand_cu12-10.3.2.106-py3-none-manylinux1_x86_64.whl (56.5 MB)\n",
            "Collecting nvidia-cusolver-cu12==11.4.5.107 (from torch>=1.11.0->sentence_transformers)\n",
            "  Using cached nvidia_cusolver_cu12-11.4.5.107-py3-none-manylinux1_x86_64.whl (124.2 MB)\n",
            "Collecting nvidia-cusparse-cu12==12.1.0.106 (from torch>=1.11.0->sentence_transformers)\n",
            "  Using cached nvidia_cusparse_cu12-12.1.0.106-py3-none-manylinux1_x86_64.whl (196.0 MB)\n",
            "Collecting nvidia-nccl-cu12==2.19.3 (from torch>=1.11.0->sentence_transformers)\n",
            "  Using cached nvidia_nccl_cu12-2.19.3-py3-none-manylinux1_x86_64.whl (166.0 MB)\n",
            "Collecting nvidia-nvtx-cu12==12.1.105 (from torch>=1.11.0->sentence_transformers)\n",
            "  Using cached nvidia_nvtx_cu12-12.1.105-py3-none-manylinux1_x86_64.whl (99 kB)\n",
            "Requirement already satisfied: triton==2.2.0 in /usr/local/lib/python3.10/dist-packages (from torch>=1.11.0->sentence_transformers) (2.2.0)\n",
            "Collecting nvidia-nvjitlink-cu12 (from nvidia-cusolver-cu12==11.4.5.107->torch>=1.11.0->sentence_transformers)\n",
            "  Using cached nvidia_nvjitlink_cu12-12.4.127-py3-none-manylinux2014_x86_64.whl (21.1 MB)\n",
            "Requirement already satisfied: regex!=2019.12.17 in /usr/local/lib/python3.10/dist-packages (from transformers<5.0.0,>=4.34.0->sentence_transformers) (2023.12.25)\n",
            "Requirement already satisfied: tokenizers<0.20,>=0.19 in /usr/local/lib/python3.10/dist-packages (from transformers<5.0.0,>=4.34.0->sentence_transformers) (0.19.1)\n",
            "Requirement already satisfied: safetensors>=0.4.1 in /usr/local/lib/python3.10/dist-packages (from transformers<5.0.0,>=4.34.0->sentence_transformers) (0.4.3)\n",
            "Requirement already satisfied: joblib>=1.1.1 in /usr/local/lib/python3.10/dist-packages (from scikit-learn->sentence_transformers) (1.4.0)\n",
            "Requirement already satisfied: threadpoolctl>=2.0.0 in /usr/local/lib/python3.10/dist-packages (from scikit-learn->sentence_transformers) (3.4.0)\n",
            "Requirement already satisfied: MarkupSafe>=2.0 in /usr/local/lib/python3.10/dist-packages (from jinja2->torch>=1.11.0->sentence_transformers) (2.1.5)\n",
            "Requirement already satisfied: charset-normalizer<4,>=2 in /usr/local/lib/python3.10/dist-packages (from requests->huggingface-hub>=0.15.1->sentence_transformers) (3.3.2)\n",
            "Requirement already satisfied: idna<4,>=2.5 in /usr/local/lib/python3.10/dist-packages (from requests->huggingface-hub>=0.15.1->sentence_transformers) (3.7)\n",
            "Requirement already satisfied: urllib3<3,>=1.21.1 in /usr/local/lib/python3.10/dist-packages (from requests->huggingface-hub>=0.15.1->sentence_transformers) (2.0.7)\n",
            "Requirement already satisfied: certifi>=2017.4.17 in /usr/local/lib/python3.10/dist-packages (from requests->huggingface-hub>=0.15.1->sentence_transformers) (2024.2.2)\n",
            "Requirement already satisfied: mpmath>=0.19 in /usr/local/lib/python3.10/dist-packages (from sympy->torch>=1.11.0->sentence_transformers) (1.3.0)\n",
            "Installing collected packages: nvidia-nvtx-cu12, nvidia-nvjitlink-cu12, nvidia-nccl-cu12, nvidia-curand-cu12, nvidia-cufft-cu12, nvidia-cuda-runtime-cu12, nvidia-cuda-nvrtc-cu12, nvidia-cuda-cupti-cu12, nvidia-cublas-cu12, nvidia-cusparse-cu12, nvidia-cudnn-cu12, nvidia-cusolver-cu12, sentence_transformers\n",
            "Successfully installed nvidia-cublas-cu12-12.1.3.1 nvidia-cuda-cupti-cu12-12.1.105 nvidia-cuda-nvrtc-cu12-12.1.105 nvidia-cuda-runtime-cu12-12.1.105 nvidia-cudnn-cu12-8.9.2.26 nvidia-cufft-cu12-11.0.2.54 nvidia-curand-cu12-10.3.2.106 nvidia-cusolver-cu12-11.4.5.107 nvidia-cusparse-cu12-12.1.0.106 nvidia-nccl-cu12-2.19.3 nvidia-nvjitlink-cu12-12.4.127 nvidia-nvtx-cu12-12.1.105 sentence_transformers-2.7.0\n"
          ]
        }
      ],
      "source": [
        "!pip install sentence_transformers"
      ]
    },
    {
      "cell_type": "code",
      "execution_count": null,
      "metadata": {
        "id": "InpdAYAllpGR"
      },
      "outputs": [],
      "source": [
        "from sentence_transformers import SentenceTransformer\n",
        "print(\n",
        "    f\"Model's maximum sequence length: {SentenceTransformer('thenlper/gte-small').max_seq_length}\"\n",
        ")\n",
        "from transformers import AutoTokenizer\n",
        "\n",
        "tokenizer = AutoTokenizer.from_pretrained(\"thenlper/gte-small\")\n",
        "lengths = [len(tokenizer.encode(doc.page_content)) for doc in tqdm(docs_processed)]\n",
        "fig= pd.Series(lengths).hist()\n",
        "plt.title(\"Distribution of document lengths in the knowledge base (in count of tokens)\")\n",
        "plt.show()"
      ]
    },
    {
      "cell_type": "code",
      "execution_count": null,
      "metadata": {
        "colab": {
          "background_save": true
        },
        "id": "eS5fQPOAmSxj"
      },
      "outputs": [],
      "source": [
        "from langchain.text_splitter import RecursiveCharacterTextSplitter\n",
        "from transformers import AutoTokenizer\n",
        "EMBEDDING_MODEL_NAME = \"thenlper/gte-small\"\n",
        "def split_documents(\n",
        "    chunk_size: int,\n",
        "    knowledge_base: List[LangchainDocument],\n",
        "    tokenizer_name: Optional[str] = EMBEDDING_MODEL_NAME,\n",
        ") -> List[LangchainDocument]:\n",
        "\n",
        "    text_splitter = RecursiveCharacterTextSplitter.from_huggingface_tokenizer(\n",
        "        AutoTokenizer.from_pretrained(tokenizer_name),\n",
        "        chunk_size=chunk_size,\n",
        "        chunk_overlap=int(chunk_size / 10),\n",
        "        add_start_index=True,\n",
        "        strip_whitespace=True,\n",
        "        separators=MARKDOWN_SEPARATORS,\n",
        "    )\n",
        "    docs_processed = []\n",
        "    for doc in knowledge_base:\n",
        "        docs_processed += text_splitter.split_documents([doc])\n",
        "    unique_texts = {}\n",
        "    docs_processed_unique = []\n",
        "    for doc in docs_processed:\n",
        "       if doc.page_content not in unique_texts:\n",
        "           unique_texts[doc.page_content]= True\n",
        "           docs_processed_unique.append(doc)\n",
        "    return docs_processed_unique\n",
        "\n",
        "docs_processed = split_documents(\n",
        "    512,\n",
        "    RAW_KNOWLEDGE_BASE,\n",
        "    tokenizer_name=EMBEDDING_MODEL_NAME,\n",
        ")\n",
        "from transformers import AutoTokenizer\n",
        "tokenizer = AutoTokenizer.from_pretrained(EMBEDDING_MODEL_NAME)\n",
        "lengths= [len(tokenizer.encode(doc.page_content)) for doc in tqdm(docs_processed)]\n",
        "fig = pd.Series(lengths).hist()\n",
        "plt.title(\"Distribution of document lengths in the knowledge base (in count of tokens)\")\n",
        "plt.show()"
      ]
    },
    {
      "cell_type": "code",
      "execution_count": null,
      "metadata": {
        "id": "J2chSy51m5AR"
      },
      "outputs": [],
      "source": [
        "!pip install faiss\n",
        "!pip install faiss-gpu"
      ]
    },
    {
      "cell_type": "code",
      "execution_count": null,
      "metadata": {
        "id": "x-eNQ91fmcdQ"
      },
      "outputs": [],
      "source": [
        "import torch\n",
        "from langchain.vectorstores import FAISS\n",
        "from langchain_community.embeddings import HuggingFaceEmbeddings\n",
        "from langchain_community.vectorstores.utils import DistanceStrategy\n",
        "\n",
        "# Check if CUDA is available\n",
        "if torch.cuda.is_available():\n",
        "    device = \"cuda:0\"  # Use GPU\n",
        "    print(\"CUDA is available. Using GPU.\")\n",
        "else:\n",
        "    device = \"cpu\"  # Fallback to CPU\n",
        "    print(\"CUDA is not available. Using CPU.\")\n",
        "\n",
        "embedding_model = HuggingFaceEmbeddings(\n",
        "    model_name=EMBEDDING_MODEL_NAME,\n",
        "    multi_process=True,\n",
        "    model_kwargs={\"device\": device},\n",
        "    encode_kwargs={\"normalize_embeddings\": True},\n",
        ")\n",
        "\n",
        "# Assuming docs_processed contains your processed documents\n",
        "KNOWLEDGE_VECTOR_DATABASE = FAISS.from_documents(\n",
        "    docs_processed, embedding_model, distance_strategy=DistanceStrategy.COSINE\n",
        ")"
      ]
    },
    {
      "cell_type": "code",
      "execution_count": null,
      "metadata": {
        "id": "GwKGeueZnSo6"
      },
      "outputs": [],
      "source": [
        "user_query = \"what is summer national sport of England?\""
      ]
    },
    {
      "cell_type": "code",
      "execution_count": null,
      "metadata": {
        "id": "YDOLRk6cq_xC"
      },
      "outputs": [],
      "source": [
        "print(f\"\\nStarting retrieval for {user_query=}...\")\n",
        "retrieved_docs = KNOWLEDGE_VECTOR_DATABASE.similarity_search(query=user_query,k=5)\n",
        "print(\n",
        "    \"\\n====================Top document==============\"\n",
        ")\n",
        "print(retrieved_docs[0].page_content)\n",
        "print(\"================Metdata========================\")"
      ]
    },
    {
      "cell_type": "code",
      "execution_count": null,
      "metadata": {
        "id": "D8SKEhqZwq0A"
      },
      "outputs": [],
      "source": [
        "!pip install accelerate"
      ]
    },
    {
      "cell_type": "code",
      "execution_count": null,
      "metadata": {
        "id": "Zu96nGU4b8-S"
      },
      "outputs": [],
      "source": [
        "!pip install Quanto"
      ]
    },
    {
      "cell_type": "code",
      "execution_count": null,
      "metadata": {
        "id": "8zYA0WaccIlj"
      },
      "outputs": [],
      "source": [
        "!pip install transformers"
      ]
    },
    {
      "cell_type": "code",
      "execution_count": null,
      "metadata": {
        "id": "1DpJWDMhdhIL"
      },
      "outputs": [],
      "source": [
        "!pip install quanto"
      ]
    },
    {
      "cell_type": "code",
      "execution_count": null,
      "metadata": {
        "id": "ApQyjLlkh7ln"
      },
      "outputs": [],
      "source": [
        "from transformers import pipeline, QuantoConfig\n",
        "import torch\n",
        "from transformers import AutoTokenizer, AutoModelForCausalLM\n",
        "READER_MODEL_NAME = \"HuggingFaceH4/zephyr-7b-beta\"\n",
        "process_config=QuantoConfig(weights=\"int8\")\n",
        "model= AutoModelForCausalLM.from_pretrained(READER_MODEL_NAME, torch_dtype=torch.float32,quantization_config=process_config, device_map=\"cuda:0\")\n",
        "tokenizer = AutoTokenizer.from_pretrained(READER_MODEL_NAME)\n",
        "READER_LLM= pipeline(\n",
        "    model=model,\n",
        "    tokenizer=tokenizer,\n",
        "    task=\"text-generation\",\n",
        "    do_sample=True,\n",
        "    temperature=0.2,\n",
        "    repetition_penalty=1.1,\n",
        "    return_full_text=False,\n",
        "    max_new_tokens=500,\n",
        ")"
      ]
    },
    {
      "cell_type": "code",
      "execution_count": null,
      "metadata": {
        "id": "F7iyJ34siw9C"
      },
      "outputs": [],
      "source": [
        "import importlib\n",
        "\n",
        "# List of required packages\n",
        "packages = ['torch', 'transformers', 'accelerate', 'quanto']\n",
        "\n",
        "# Check if each package is installed\n",
        "for package in packages:\n",
        "    try:\n",
        "        importlib.import_module(package)\n",
        "        print(f\"{package} is installed.\")\n",
        "    except ImportError:\n",
        "        print(f\"{package} is not installed.\")"
      ]
    },
    {
      "cell_type": "code",
      "execution_count": null,
      "metadata": {
        "id": "MViJesuGlgyj"
      },
      "outputs": [],
      "source": [
        "prompt_in_chat_format = [\n",
        "   {\n",
        "       \"role\": \"system\",\n",
        "       \"content\": \"\"\"Using the information contained in the context,\n",
        "give a comprehensive answer to the question.\n",
        "Respond only to the question asked, response should be concise and relevant to the question.\n",
        "Provide the number of the source document when relevant.\n",
        "If the answer cannot be deduced from the context, do not give an answer.\"\"\",\n",
        "\n",
        "   },\n",
        "   {\n",
        "       \"role\" : \"user\",\n",
        "       \"content\" : \"\"\"context:\n",
        "{context}\n",
        "\n",
        "---\n",
        "Now here is the question you need to answer.\n",
        "Question: {question}\"\"\",\n",
        "\n",
        "   },\n",
        "\n",
        "]\n",
        "RAG_PROMPT_TEMPLATE = tokenizer.apply_chat_template(\n",
        "    prompt_in_chat_format, tokenize=False, add_generation_prompt=True\n",
        ")\n",
        "print(RAG_PROMPT_TEMPLATE)"
      ]
    },
    {
      "cell_type": "code",
      "execution_count": null,
      "metadata": {
        "id": "Ld7Wg5Sfo7Qi"
      },
      "outputs": [],
      "source": [
        "user_query = \"what is cricket?\"\n",
        "print(f\"\\nStarting retrieval for {user_query=}...\")\n",
        "retrieved_docs = KNOWLEDGE_VECTOR_DATABASE.similarity_search(query=user_query,k=5)\n",
        "print(\n",
        "    \"\\n====================Top document==============\"\n",
        ")\n",
        "print(retrieved_docs[0].page_content)\n",
        "print(\"================Metdata========================\")"
      ]
    },
    {
      "cell_type": "code",
      "execution_count": null,
      "metadata": {
        "id": "U6UsKM5OqZUA"
      },
      "outputs": [],
      "source": [
        "# Assuming RAG_PROMPT_TEMPLATE is defined somewhere in your code\n",
        "RAG_PROMPT_TEMPLATE = \"Questions: {questions}\\n{context}\"\n",
        "\n",
        "retrieved_docs_text = [\n",
        "    doc.page_content for doc in retrieved_docs\n",
        "]\n",
        "context = \"\\nExtracted documents:\\n\"\n",
        "context += \"\".join(\n",
        "    [f\"Document {str(i)}:::\\n\" + doc for i, doc in enumerate(retrieved_docs_text)]\n",
        ")\n",
        "final_prompt = RAG_PROMPT_TEMPLATE.format(\n",
        "    questions=\"what is cricket council?\", context=context\n",
        ")\n",
        "answer = READER_LLM(final_prompt)[0][\"generated_text\"]\n",
        "print(answer)\n"
      ]
    }
  ],
  "metadata": {
    "accelerator": "GPU",
    "colab": {
      "gpuType": "T4",
      "provenance": []
    },
    "kernelspec": {
      "display_name": "Python 3",
      "name": "python3"
    },
    "language_info": {
      "name": "python"
    },
    "widgets": {
      "application/vnd.jupyter.widget-state+json": {
        "10441864b3af4cbf81d44a3abfef08c2": {
          "model_module": "@jupyter-widgets/base",
          "model_module_version": "1.2.0",
          "model_name": "LayoutModel",
          "state": {
            "_model_module": "@jupyter-widgets/base",
            "_model_module_version": "1.2.0",
            "_model_name": "LayoutModel",
            "_view_count": null,
            "_view_module": "@jupyter-widgets/base",
            "_view_module_version": "1.2.0",
            "_view_name": "LayoutView",
            "align_content": null,
            "align_items": null,
            "align_self": null,
            "border": null,
            "bottom": null,
            "display": null,
            "flex": null,
            "flex_flow": null,
            "grid_area": null,
            "grid_auto_columns": null,
            "grid_auto_flow": null,
            "grid_auto_rows": null,
            "grid_column": null,
            "grid_gap": null,
            "grid_row": null,
            "grid_template_areas": null,
            "grid_template_columns": null,
            "grid_template_rows": null,
            "height": null,
            "justify_content": null,
            "justify_items": null,
            "left": null,
            "margin": null,
            "max_height": null,
            "max_width": null,
            "min_height": null,
            "min_width": null,
            "object_fit": null,
            "object_position": null,
            "order": null,
            "overflow": null,
            "overflow_x": null,
            "overflow_y": null,
            "padding": null,
            "right": null,
            "top": null,
            "visibility": null,
            "width": "20px"
          }
        },
        "2081f8973e144969b797045f11a85d3d": {
          "model_module": "@jupyter-widgets/base",
          "model_module_version": "1.2.0",
          "model_name": "LayoutModel",
          "state": {
            "_model_module": "@jupyter-widgets/base",
            "_model_module_version": "1.2.0",
            "_model_name": "LayoutModel",
            "_view_count": null,
            "_view_module": "@jupyter-widgets/base",
            "_view_module_version": "1.2.0",
            "_view_name": "LayoutView",
            "align_content": null,
            "align_items": null,
            "align_self": null,
            "border": null,
            "bottom": null,
            "display": null,
            "flex": null,
            "flex_flow": null,
            "grid_area": null,
            "grid_auto_columns": null,
            "grid_auto_flow": null,
            "grid_auto_rows": null,
            "grid_column": null,
            "grid_gap": null,
            "grid_row": null,
            "grid_template_areas": null,
            "grid_template_columns": null,
            "grid_template_rows": null,
            "height": null,
            "justify_content": null,
            "justify_items": null,
            "left": null,
            "margin": null,
            "max_height": null,
            "max_width": null,
            "min_height": null,
            "min_width": null,
            "object_fit": null,
            "object_position": null,
            "order": null,
            "overflow": null,
            "overflow_x": null,
            "overflow_y": null,
            "padding": null,
            "right": null,
            "top": null,
            "visibility": null,
            "width": null
          }
        },
        "2304c6ab7f1c4f2b863980981fb46203": {
          "model_module": "@jupyter-widgets/controls",
          "model_module_version": "1.5.0",
          "model_name": "HBoxModel",
          "state": {
            "_dom_classes": [],
            "_model_module": "@jupyter-widgets/controls",
            "_model_module_version": "1.5.0",
            "_model_name": "HBoxModel",
            "_view_count": null,
            "_view_module": "@jupyter-widgets/controls",
            "_view_module_version": "1.5.0",
            "_view_name": "HBoxView",
            "box_style": "",
            "children": [
              "IPY_MODEL_81986ae0a0bc48debd1a8dc2642d1b17",
              "IPY_MODEL_eadd066eca314dedbd7a2db687a0e3d1",
              "IPY_MODEL_719e452b3e08401eb695b6bca8bc0e66"
            ],
            "layout": "IPY_MODEL_5874ed75071b440dafe4b2b665e1266a"
          }
        },
        "35e8bb1ac6284e68970b4e13808de38a": {
          "model_module": "@jupyter-widgets/controls",
          "model_module_version": "1.5.0",
          "model_name": "DescriptionStyleModel",
          "state": {
            "_model_module": "@jupyter-widgets/controls",
            "_model_module_version": "1.5.0",
            "_model_name": "DescriptionStyleModel",
            "_view_count": null,
            "_view_module": "@jupyter-widgets/base",
            "_view_module_version": "1.2.0",
            "_view_name": "StyleView",
            "description_width": ""
          }
        },
        "39bf2afddd494b37ac05ea21680c6788": {
          "model_module": "@jupyter-widgets/controls",
          "model_module_version": "1.5.0",
          "model_name": "HBoxModel",
          "state": {
            "_dom_classes": [],
            "_model_module": "@jupyter-widgets/controls",
            "_model_module_version": "1.5.0",
            "_model_name": "HBoxModel",
            "_view_count": null,
            "_view_module": "@jupyter-widgets/controls",
            "_view_module_version": "1.5.0",
            "_view_name": "HBoxView",
            "box_style": "",
            "children": [
              "IPY_MODEL_e9e0efac3ff5484abe097977e8355dc8",
              "IPY_MODEL_ec9e858601014de6a612652c63e5e565",
              "IPY_MODEL_87c334faec91450fa1e0bd264cb813a3"
            ],
            "layout": "IPY_MODEL_cde8537f508447af81579b040c6880ea"
          }
        },
        "546495d66d0b4411861a6eeb9dfa9bf4": {
          "model_module": "@jupyter-widgets/controls",
          "model_module_version": "1.5.0",
          "model_name": "DescriptionStyleModel",
          "state": {
            "_model_module": "@jupyter-widgets/controls",
            "_model_module_version": "1.5.0",
            "_model_name": "DescriptionStyleModel",
            "_view_count": null,
            "_view_module": "@jupyter-widgets/base",
            "_view_module_version": "1.2.0",
            "_view_name": "StyleView",
            "description_width": ""
          }
        },
        "54c3e4bfdff74f2e8e2076134c67174b": {
          "model_module": "@jupyter-widgets/base",
          "model_module_version": "1.2.0",
          "model_name": "LayoutModel",
          "state": {
            "_model_module": "@jupyter-widgets/base",
            "_model_module_version": "1.2.0",
            "_model_name": "LayoutModel",
            "_view_count": null,
            "_view_module": "@jupyter-widgets/base",
            "_view_module_version": "1.2.0",
            "_view_name": "LayoutView",
            "align_content": null,
            "align_items": null,
            "align_self": null,
            "border": null,
            "bottom": null,
            "display": null,
            "flex": null,
            "flex_flow": null,
            "grid_area": null,
            "grid_auto_columns": null,
            "grid_auto_flow": null,
            "grid_auto_rows": null,
            "grid_column": null,
            "grid_gap": null,
            "grid_row": null,
            "grid_template_areas": null,
            "grid_template_columns": null,
            "grid_template_rows": null,
            "height": null,
            "justify_content": null,
            "justify_items": null,
            "left": null,
            "margin": null,
            "max_height": null,
            "max_width": null,
            "min_height": null,
            "min_width": null,
            "object_fit": null,
            "object_position": null,
            "order": null,
            "overflow": null,
            "overflow_x": null,
            "overflow_y": null,
            "padding": null,
            "right": null,
            "top": null,
            "visibility": null,
            "width": null
          }
        },
        "5874ed75071b440dafe4b2b665e1266a": {
          "model_module": "@jupyter-widgets/base",
          "model_module_version": "1.2.0",
          "model_name": "LayoutModel",
          "state": {
            "_model_module": "@jupyter-widgets/base",
            "_model_module_version": "1.2.0",
            "_model_name": "LayoutModel",
            "_view_count": null,
            "_view_module": "@jupyter-widgets/base",
            "_view_module_version": "1.2.0",
            "_view_name": "LayoutView",
            "align_content": null,
            "align_items": null,
            "align_self": null,
            "border": null,
            "bottom": null,
            "display": null,
            "flex": null,
            "flex_flow": null,
            "grid_area": null,
            "grid_auto_columns": null,
            "grid_auto_flow": null,
            "grid_auto_rows": null,
            "grid_column": null,
            "grid_gap": null,
            "grid_row": null,
            "grid_template_areas": null,
            "grid_template_columns": null,
            "grid_template_rows": null,
            "height": null,
            "justify_content": null,
            "justify_items": null,
            "left": null,
            "margin": null,
            "max_height": null,
            "max_width": null,
            "min_height": null,
            "min_width": null,
            "object_fit": null,
            "object_position": null,
            "order": null,
            "overflow": null,
            "overflow_x": null,
            "overflow_y": null,
            "padding": null,
            "right": null,
            "top": null,
            "visibility": null,
            "width": null
          }
        },
        "719af0745e1e42c1886423a79666f719": {
          "model_module": "@jupyter-widgets/controls",
          "model_module_version": "1.5.0",
          "model_name": "ProgressStyleModel",
          "state": {
            "_model_module": "@jupyter-widgets/controls",
            "_model_module_version": "1.5.0",
            "_model_name": "ProgressStyleModel",
            "_view_count": null,
            "_view_module": "@jupyter-widgets/base",
            "_view_module_version": "1.2.0",
            "_view_name": "StyleView",
            "bar_color": null,
            "description_width": ""
          }
        },
        "719e452b3e08401eb695b6bca8bc0e66": {
          "model_module": "@jupyter-widgets/controls",
          "model_module_version": "1.5.0",
          "model_name": "HTMLModel",
          "state": {
            "_dom_classes": [],
            "_model_module": "@jupyter-widgets/controls",
            "_model_module_version": "1.5.0",
            "_model_name": "HTMLModel",
            "_view_count": null,
            "_view_module": "@jupyter-widgets/controls",
            "_view_module_version": "1.5.0",
            "_view_name": "HTMLView",
            "description": "",
            "description_tooltip": null,
            "layout": "IPY_MODEL_7e40c9f8eecb46b8816bf14973056394",
            "placeholder": "​",
            "style": "IPY_MODEL_546495d66d0b4411861a6eeb9dfa9bf4",
            "value": " 210/210 [00:00&lt;00:00, 3797.35it/s]"
          }
        },
        "7e40c9f8eecb46b8816bf14973056394": {
          "model_module": "@jupyter-widgets/base",
          "model_module_version": "1.2.0",
          "model_name": "LayoutModel",
          "state": {
            "_model_module": "@jupyter-widgets/base",
            "_model_module_version": "1.2.0",
            "_model_name": "LayoutModel",
            "_view_count": null,
            "_view_module": "@jupyter-widgets/base",
            "_view_module_version": "1.2.0",
            "_view_name": "LayoutView",
            "align_content": null,
            "align_items": null,
            "align_self": null,
            "border": null,
            "bottom": null,
            "display": null,
            "flex": null,
            "flex_flow": null,
            "grid_area": null,
            "grid_auto_columns": null,
            "grid_auto_flow": null,
            "grid_auto_rows": null,
            "grid_column": null,
            "grid_gap": null,
            "grid_row": null,
            "grid_template_areas": null,
            "grid_template_columns": null,
            "grid_template_rows": null,
            "height": null,
            "justify_content": null,
            "justify_items": null,
            "left": null,
            "margin": null,
            "max_height": null,
            "max_width": null,
            "min_height": null,
            "min_width": null,
            "object_fit": null,
            "object_position": null,
            "order": null,
            "overflow": null,
            "overflow_x": null,
            "overflow_y": null,
            "padding": null,
            "right": null,
            "top": null,
            "visibility": null,
            "width": null
          }
        },
        "81986ae0a0bc48debd1a8dc2642d1b17": {
          "model_module": "@jupyter-widgets/controls",
          "model_module_version": "1.5.0",
          "model_name": "HTMLModel",
          "state": {
            "_dom_classes": [],
            "_model_module": "@jupyter-widgets/controls",
            "_model_module_version": "1.5.0",
            "_model_name": "HTMLModel",
            "_view_count": null,
            "_view_module": "@jupyter-widgets/controls",
            "_view_module_version": "1.5.0",
            "_view_name": "HTMLView",
            "description": "",
            "description_tooltip": null,
            "layout": "IPY_MODEL_54c3e4bfdff74f2e8e2076134c67174b",
            "placeholder": "​",
            "style": "IPY_MODEL_931ca9c252714f81b89c1b02930cc9cb",
            "value": "100%"
          }
        },
        "87c334faec91450fa1e0bd264cb813a3": {
          "model_module": "@jupyter-widgets/controls",
          "model_module_version": "1.5.0",
          "model_name": "HTMLModel",
          "state": {
            "_dom_classes": [],
            "_model_module": "@jupyter-widgets/controls",
            "_model_module_version": "1.5.0",
            "_model_name": "HTMLModel",
            "_view_count": null,
            "_view_module": "@jupyter-widgets/controls",
            "_view_module_version": "1.5.0",
            "_view_name": "HTMLView",
            "description": "",
            "description_tooltip": null,
            "layout": "IPY_MODEL_bb7c21205afd4d9f88f1148437ae3baa",
            "placeholder": "​",
            "style": "IPY_MODEL_35e8bb1ac6284e68970b4e13808de38a",
            "value": " 210/0 [00:00&lt;00:00, 5637.04 examples/s]"
          }
        },
        "931ca9c252714f81b89c1b02930cc9cb": {
          "model_module": "@jupyter-widgets/controls",
          "model_module_version": "1.5.0",
          "model_name": "DescriptionStyleModel",
          "state": {
            "_model_module": "@jupyter-widgets/controls",
            "_model_module_version": "1.5.0",
            "_model_name": "DescriptionStyleModel",
            "_view_count": null,
            "_view_module": "@jupyter-widgets/base",
            "_view_module_version": "1.2.0",
            "_view_name": "StyleView",
            "description_width": ""
          }
        },
        "bb7c21205afd4d9f88f1148437ae3baa": {
          "model_module": "@jupyter-widgets/base",
          "model_module_version": "1.2.0",
          "model_name": "LayoutModel",
          "state": {
            "_model_module": "@jupyter-widgets/base",
            "_model_module_version": "1.2.0",
            "_model_name": "LayoutModel",
            "_view_count": null,
            "_view_module": "@jupyter-widgets/base",
            "_view_module_version": "1.2.0",
            "_view_name": "LayoutView",
            "align_content": null,
            "align_items": null,
            "align_self": null,
            "border": null,
            "bottom": null,
            "display": null,
            "flex": null,
            "flex_flow": null,
            "grid_area": null,
            "grid_auto_columns": null,
            "grid_auto_flow": null,
            "grid_auto_rows": null,
            "grid_column": null,
            "grid_gap": null,
            "grid_row": null,
            "grid_template_areas": null,
            "grid_template_columns": null,
            "grid_template_rows": null,
            "height": null,
            "justify_content": null,
            "justify_items": null,
            "left": null,
            "margin": null,
            "max_height": null,
            "max_width": null,
            "min_height": null,
            "min_width": null,
            "object_fit": null,
            "object_position": null,
            "order": null,
            "overflow": null,
            "overflow_x": null,
            "overflow_y": null,
            "padding": null,
            "right": null,
            "top": null,
            "visibility": null,
            "width": null
          }
        },
        "bbf32321a2ce4e93a0120a8f80f862ec": {
          "model_module": "@jupyter-widgets/controls",
          "model_module_version": "1.5.0",
          "model_name": "ProgressStyleModel",
          "state": {
            "_model_module": "@jupyter-widgets/controls",
            "_model_module_version": "1.5.0",
            "_model_name": "ProgressStyleModel",
            "_view_count": null,
            "_view_module": "@jupyter-widgets/base",
            "_view_module_version": "1.2.0",
            "_view_name": "StyleView",
            "bar_color": null,
            "description_width": ""
          }
        },
        "cde8537f508447af81579b040c6880ea": {
          "model_module": "@jupyter-widgets/base",
          "model_module_version": "1.2.0",
          "model_name": "LayoutModel",
          "state": {
            "_model_module": "@jupyter-widgets/base",
            "_model_module_version": "1.2.0",
            "_model_name": "LayoutModel",
            "_view_count": null,
            "_view_module": "@jupyter-widgets/base",
            "_view_module_version": "1.2.0",
            "_view_name": "LayoutView",
            "align_content": null,
            "align_items": null,
            "align_self": null,
            "border": null,
            "bottom": null,
            "display": null,
            "flex": null,
            "flex_flow": null,
            "grid_area": null,
            "grid_auto_columns": null,
            "grid_auto_flow": null,
            "grid_auto_rows": null,
            "grid_column": null,
            "grid_gap": null,
            "grid_row": null,
            "grid_template_areas": null,
            "grid_template_columns": null,
            "grid_template_rows": null,
            "height": null,
            "justify_content": null,
            "justify_items": null,
            "left": null,
            "margin": null,
            "max_height": null,
            "max_width": null,
            "min_height": null,
            "min_width": null,
            "object_fit": null,
            "object_position": null,
            "order": null,
            "overflow": null,
            "overflow_x": null,
            "overflow_y": null,
            "padding": null,
            "right": null,
            "top": null,
            "visibility": null,
            "width": null
          }
        },
        "e897c5c0a5d043178c49929e76d26f2f": {
          "model_module": "@jupyter-widgets/controls",
          "model_module_version": "1.5.0",
          "model_name": "DescriptionStyleModel",
          "state": {
            "_model_module": "@jupyter-widgets/controls",
            "_model_module_version": "1.5.0",
            "_model_name": "DescriptionStyleModel",
            "_view_count": null,
            "_view_module": "@jupyter-widgets/base",
            "_view_module_version": "1.2.0",
            "_view_name": "StyleView",
            "description_width": ""
          }
        },
        "e9e0efac3ff5484abe097977e8355dc8": {
          "model_module": "@jupyter-widgets/controls",
          "model_module_version": "1.5.0",
          "model_name": "HTMLModel",
          "state": {
            "_dom_classes": [],
            "_model_module": "@jupyter-widgets/controls",
            "_model_module_version": "1.5.0",
            "_model_name": "HTMLModel",
            "_view_count": null,
            "_view_module": "@jupyter-widgets/controls",
            "_view_module_version": "1.5.0",
            "_view_name": "HTMLView",
            "description": "",
            "description_tooltip": null,
            "layout": "IPY_MODEL_2081f8973e144969b797045f11a85d3d",
            "placeholder": "​",
            "style": "IPY_MODEL_e897c5c0a5d043178c49929e76d26f2f",
            "value": "Generating train split: "
          }
        },
        "eadd066eca314dedbd7a2db687a0e3d1": {
          "model_module": "@jupyter-widgets/controls",
          "model_module_version": "1.5.0",
          "model_name": "FloatProgressModel",
          "state": {
            "_dom_classes": [],
            "_model_module": "@jupyter-widgets/controls",
            "_model_module_version": "1.5.0",
            "_model_name": "FloatProgressModel",
            "_view_count": null,
            "_view_module": "@jupyter-widgets/controls",
            "_view_module_version": "1.5.0",
            "_view_name": "ProgressView",
            "bar_style": "success",
            "description": "",
            "description_tooltip": null,
            "layout": "IPY_MODEL_f7fcafae3a9b41f89b114c41063aaa0c",
            "max": 210,
            "min": 0,
            "orientation": "horizontal",
            "style": "IPY_MODEL_bbf32321a2ce4e93a0120a8f80f862ec",
            "value": 210
          }
        },
        "ec9e858601014de6a612652c63e5e565": {
          "model_module": "@jupyter-widgets/controls",
          "model_module_version": "1.5.0",
          "model_name": "FloatProgressModel",
          "state": {
            "_dom_classes": [],
            "_model_module": "@jupyter-widgets/controls",
            "_model_module_version": "1.5.0",
            "_model_name": "FloatProgressModel",
            "_view_count": null,
            "_view_module": "@jupyter-widgets/controls",
            "_view_module_version": "1.5.0",
            "_view_name": "ProgressView",
            "bar_style": "success",
            "description": "",
            "description_tooltip": null,
            "layout": "IPY_MODEL_10441864b3af4cbf81d44a3abfef08c2",
            "max": 1,
            "min": 0,
            "orientation": "horizontal",
            "style": "IPY_MODEL_719af0745e1e42c1886423a79666f719",
            "value": 1
          }
        },
        "f7fcafae3a9b41f89b114c41063aaa0c": {
          "model_module": "@jupyter-widgets/base",
          "model_module_version": "1.2.0",
          "model_name": "LayoutModel",
          "state": {
            "_model_module": "@jupyter-widgets/base",
            "_model_module_version": "1.2.0",
            "_model_name": "LayoutModel",
            "_view_count": null,
            "_view_module": "@jupyter-widgets/base",
            "_view_module_version": "1.2.0",
            "_view_name": "LayoutView",
            "align_content": null,
            "align_items": null,
            "align_self": null,
            "border": null,
            "bottom": null,
            "display": null,
            "flex": null,
            "flex_flow": null,
            "grid_area": null,
            "grid_auto_columns": null,
            "grid_auto_flow": null,
            "grid_auto_rows": null,
            "grid_column": null,
            "grid_gap": null,
            "grid_row": null,
            "grid_template_areas": null,
            "grid_template_columns": null,
            "grid_template_rows": null,
            "height": null,
            "justify_content": null,
            "justify_items": null,
            "left": null,
            "margin": null,
            "max_height": null,
            "max_width": null,
            "min_height": null,
            "min_width": null,
            "object_fit": null,
            "object_position": null,
            "order": null,
            "overflow": null,
            "overflow_x": null,
            "overflow_y": null,
            "padding": null,
            "right": null,
            "top": null,
            "visibility": null,
            "width": null
          }
        }
      }
    }
  },
  "nbformat": 4,
  "nbformat_minor": 0
}